{
 "cells": [
  {
   "cell_type": "markdown",
   "metadata": {},
   "source": [
    "### Алгоритмы интеллектуальной обработки больших объемов данных\n",
    "## Домашнее задание №3 - Дерево решений\n"
   ]
  },
  {
   "cell_type": "markdown",
   "metadata": {},
   "source": [
    "**Общая информация**\n",
    "\n",
    "**Срок сдачи:** 08 декабря 2020, 08:30   \n",
    "**Штраф за опоздание:** -2 балла после 08:30 08 декабря, -4 балла после 08:30 15 декабря, -6 баллов после 08:30 22 декабря, -8 баллов после 08:30 29 декабря.\n",
    "\n",
    "При отправлении ДЗ указывайте фамилию в названии файла Присылать ДЗ необходимо в виде ссылки на свой github репозиторий на почту ml1.sphere@mail.ru с указанием темы в следующем формате:\n",
    "[ML0220, Задание 3] Фамилия Имя. \n",
    "\n",
    "\n",
    "Используйте данный Ipython Notebook при оформлении домашнего задания."
   ]
  },
  {
   "cell_type": "markdown",
   "metadata": {},
   "source": [
    "##  Реализуем дерево решений (3 балла)"
   ]
  },
  {
   "cell_type": "markdown",
   "metadata": {},
   "source": [
    "Допишите недостающие части дерева решений. Ваша реализация дерева должна работать по точности не хуже DecisionTreeClassifier из sklearn.\n",
    "Внимание: если Вас не устраивает предложенная структура хранения дерева, Вы без потери баллов можете сделать свой класс DecisionTreeClassifier, в котором сами полностью воспроизведете алгоритм дерева решений. Обязательно в нем иметь только функции fit, predict"
   ]
  },
  {
   "cell_type": "code",
   "execution_count": 1,
   "metadata": {},
   "outputs": [],
   "source": [
    "import matplotlib.pyplot as plt\n",
    "import numpy as np\n",
    "import pandas as pd\n",
    "\n",
    "from sklearn.datasets import load_wine\n",
    "from sklearn.ensemble import RandomForestClassifier\n",
    "from sklearn.metrics import accuracy_score, f1_score\n",
    "from sklearn.metrics import recall_score\n",
    "from sklearn.model_selection import KFold, train_test_split, GridSearchCV, RandomizedSearchCV\n",
    "from sklearn.tree import DecisionTreeClassifier"
   ]
  },
  {
   "cell_type": "code",
   "execution_count": 2,
   "metadata": {},
   "outputs": [],
   "source": [
    "from sklearn.base import BaseEstimator\n",
    "\n",
    "class MyDecisionTreeClassifier(BaseEstimator):\n",
    "    NON_LEAF_TYPE = 0\n",
    "    LEAF_TYPE = 1\n",
    "\n",
    "    def __init__(self, min_samples_split=2, max_depth=5, criterion='gini', \\\n",
    "                 min_IG=0.1, unique_features=True, data_percentage=0.05):\n",
    "        \"\"\"\n",
    "        criterion -- критерий расщепления. необходимо релизовать три:\n",
    "        Ошибка классификации, Индекс Джини, Энтропийный критерий\n",
    "        max_depth -- максимальная глубина дерева\n",
    "        min_samples_split -- минимальное число объектов в листе, чтобы сделать новый сплит\n",
    "        \"\"\"\n",
    "        self.min_samples_split = min_samples_split\n",
    "        self.max_depth = max_depth\n",
    "        self.num_class = -1\n",
    "        self.feature_importances_ = dict()\n",
    "        self.criterion = criterion\n",
    "        self.min_IG = min_IG\n",
    "        self.data_percentage = data_percentage\n",
    "        self.unique_features = unique_features\n",
    "        self.tree = dict()\n",
    "\n",
    "    def __div_samples(self, x, y, feature_id, threshold):\n",
    "        \"\"\"\n",
    "        Разделяет объекты на 2 множества\n",
    "        x -- матрица объектов\n",
    "        y -- вектор ответов\n",
    "        feature_id -- айдишник признака, по которому делаем сплит\n",
    "        threshold -- порог, по которому делаем сплит\n",
    "        \"\"\"\n",
    "        left_mask = x[:, int(feature_id)] > threshold\n",
    "        right_mask = ~left_mask\n",
    "        return x[left_mask], x[right_mask], y[left_mask], y[right_mask]\n",
    "\n",
    "    def __find_threshold(self, x, y, feature_set):\n",
    "        \"\"\"\n",
    "        Находим оптимальный признак и порог для сплита\n",
    "        Здесь используемые разные impurity в зависимости от self.criterion\n",
    "        \"\"\"        \n",
    "        def criterion_(criterion, y, y_left, y_right):\n",
    "            p_l = np.bincount(y_left)\n",
    "            p_r = np.bincount(y_right)\n",
    "            p_0 = np.bincount(y)\n",
    "            if criterion == 'gini':\n",
    "                F_0 = 1 - np.dot(p_0, p_0) / y.size**2\n",
    "                F_left = 1 - np.dot(p_l, p_l) / y_left.size**2\n",
    "                F_right = 1 - np.dot(p_r, p_r) / y_right.size**2                 \n",
    "            if criterion == 'entropy':\n",
    "                log_0 = np.log2(np.where(p_0==0, 1, p_0)) - np.log2(y.size)\n",
    "                log_l = np.log2(np.where(p_l==0, 1, p_l)) - np.log2(y_left.size)\n",
    "                log_r = np.log2(np.where(p_r==0, 1, p_r)) - np.log2(y_right.size)\n",
    "                F_0 = - np.dot(p_0, log_0) / y.size \n",
    "                F_left = - np.dot(p_l, log_l) / y_left.size                     \n",
    "                F_right = - np.dot(p_r, log_r) / y_right.size\n",
    "            if criterion == 'misclass':\n",
    "                F_0 = 1 - np.max(p_0) / y.size                      \n",
    "                F_left = 1 - np.max(p_l) / y_left.size                      \n",
    "                F_right = 1 - np.max(p_r) / y_right.size          \n",
    "            IG = F_0 - (y_left.size * F_left + y_right.size * F_right) / y.size\n",
    "            return IG\n",
    "        \n",
    "        def prepare_criteria_matrix(x, feature_mask):\n",
    "            s_matr = np.sort(x[:, feature_mask], axis=0)\n",
    "            data_size = x.shape[0]\n",
    "            size = int(round(self.data_percentage * data_size))\n",
    "            if size <= 1:\n",
    "                sm_matr = np.mean(s_matr, axis=0)\n",
    "            else:      \n",
    "                bath_size = data_size // size\n",
    "                offset_size = data_size % size\n",
    "                left_offset = offset_size // 2\n",
    "                right_offset = offset_size - left_offset\n",
    "                if offset_size != 0:\n",
    "                    s_matr = s_matr[left_offset:-right_offset, :]\n",
    "                sm_matr = np.mean((s_matr[:bath_size, :]), axis=0)\n",
    "                for path_num in range(1, size):\n",
    "                    line_of_mean = np.mean((s_matr[path_num * bath_size:(path_num+1) * bath_size, :]), axis=0)\n",
    "                    sm_matr = np.vstack((sm_matr, line_of_mean))\n",
    "            return sm_matr\n",
    "        \n",
    "        def find_best_criterion(sm_matr_el, feature_mask_el):\n",
    "            _, _, y_left, y_right = self.__div_samples(x, y, feature_mask_el, sm_matr_el)\n",
    "            if y_left.size < self.min_samples_split or y_right.size < self.min_samples_split:\n",
    "                return\n",
    "            IG = criterion_(self.criterion, y, y_left, y_right)\n",
    "            if IG > self._best_params[0]:\n",
    "                self._best_params = (IG, feature_mask_el, sm_matr_el)\n",
    "        \n",
    "        feature_mask = np.array(list(set(range(x.shape[1])) ^ feature_set), dtype=int)\n",
    "        cr_matr = prepare_criteria_matrix(x, feature_mask)   \n",
    "        self._best_params = (0., -1, 0.)\n",
    "        vfunc = np.vectorize(find_best_criterion)\n",
    "        vfunc(cr_matr, feature_mask)\n",
    "        best_params = self._best_params\n",
    "        self.feature_importances_[best_params[1]] = best_params[0]\n",
    "        if self.unique_features:\n",
    "            feature_set.add(best_params[1])\n",
    "        return best_params\n",
    "\n",
    "    def __fit_node(self, x, y, node_id, depth, feature_set):\n",
    "        \"\"\"\n",
    "        Делаем новый узел в дереве\n",
    "        Решаем, терминальный он или нет\n",
    "        Если нет, то строим левый узел  с айди 2 * node_id + 1\n",
    "        И правый узел с  айди 2 * node_id + 2\n",
    "        \"\"\"  \n",
    "        if y.size < 2*self.min_samples_split:\n",
    "            node_prediction = np.argmax(np.bincount(y)) \n",
    "            node_prediction_probability = np.max(np.bincount(y)) / y.size \n",
    "            self.tree[node_id] = ([self.__class__.LEAF_TYPE, node_prediction, node_prediction_probability])\n",
    "            return\n",
    "        IG, feature_id, threshold = self.__find_threshold(x, y, feature_set)\n",
    "        x_left, x_right, y_left, y_right = self.__div_samples(x, y, feature_id, threshold)\n",
    "        if (IG < self.min_IG or depth > self.max_depth):\n",
    "            node_prediction = np.argmax(np.bincount(y)) \n",
    "            node_prediction_probability = np.max(np.bincount(y)) / y.size \n",
    "            self.tree[node_id] = ([self.__class__.LEAF_TYPE, node_prediction, node_prediction_probability])\n",
    "            return\n",
    "        self.tree[node_id] = ([self.__class__.NON_LEAF_TYPE, feature_id, threshold])\n",
    "        self.__fit_node(x_left, y_left, 2*node_id+1, depth+1, set.copy(feature_set))\n",
    "        self.__fit_node(x_right, y_right, 2*node_id+2, depth+1, feature_set)\n",
    "    \n",
    "    def fit(self, x, y):\n",
    "        \"\"\"\n",
    "        Рекурсивно строим дерево решений\n",
    "        Начинаем с корня node_id 0\n",
    "        \"\"\"   \n",
    "        self.num_class = np.unique(y).size\n",
    "        self.__fit_node(x, y, 0, 0, set()) \n",
    "        self.number_of_features_ = x.shape[1]\n",
    "\n",
    "    def __predict_class(self, x, node_id):\n",
    "        \"\"\"\n",
    "        Рекурсивно обходим дерево по всем узлам,\n",
    "        пока не дойдем до терминального\n",
    "        \"\"\"\n",
    "        node = self.tree[node_id]\n",
    "        if node[0] == self.__class__.NON_LEAF_TYPE:\n",
    "            _, feature_id, threshold = node\n",
    "            if x[int(feature_id)] > threshold:\n",
    "                return self.__predict_class(x, 2 * node_id + 1)\n",
    "            else:\n",
    "                return self.__predict_class(x, 2 * node_id + 2)\n",
    "        else:\n",
    "            return node[1]\n",
    "        \n",
    "    def predict(self, X):\n",
    "        \"\"\"\n",
    "        Вызывает predict для всех объектов из матрицы X\n",
    "        \"\"\"\n",
    "        return np.array([self.__predict_class(x, 0) for x in X])\n",
    "    \n",
    "    def fit_predict(self, x_train, y_train, predicted_x):\n",
    "        self.fit(x_train, y_train)\n",
    "        return self.predict(predicted_x)\n",
    "    \n",
    "    def score(self, X, y_true):\n",
    "        y_pred=self.predict(X)\n",
    "#         return f1_score(y_pred=self.predict(X), y_true=y_true, pos_label=1)\n",
    "        return accuracy_score(y_pred=self.predict(X), y_true=y_true)\n",
    "#         return recall_score(y_pred=y_pred, y_true=y_true, average='binary', pos_label=1)    \n",
    "    def get_feature_importance(self):\n",
    "        \"\"\"\n",
    "        Возвращает важность признаков\n",
    "        \"\"\"\n",
    "        if -1 in self.feature_importances_:\n",
    "            del self.feature_importances_[-1]\n",
    "        features = self.feature_importances_\n",
    "        fi = [features[i] if i in features else 0 for i in range(self.number_of_features_)]\n",
    "        return fi"
   ]
  },
  {
   "cell_type": "code",
   "execution_count": 3,
   "metadata": {},
   "outputs": [],
   "source": [
    "my_clf = MyDecisionTreeClassifier(min_samples_split=2, criterion='gini')\n",
    "clf = DecisionTreeClassifier(min_samples_split=2)"
   ]
  },
  {
   "cell_type": "code",
   "execution_count": 4,
   "metadata": {},
   "outputs": [],
   "source": [
    "wine = load_wine()\n",
    "X_train, X_test, y_train, y_test = train_test_split(wine.data, wine.target, test_size=0.1, stratify=wine.target)"
   ]
  },
  {
   "cell_type": "code",
   "execution_count": 5,
   "metadata": {},
   "outputs": [],
   "source": [
    "clf.fit(X_train, y_train)\n",
    "my_clf.fit(X_train, y_train)"
   ]
  },
  {
   "cell_type": "code",
   "execution_count": 6,
   "metadata": {},
   "outputs": [
    {
     "data": {
      "text/plain": [
       "(0.8888888888888888, 0.8888888888888888)"
      ]
     },
     "execution_count": 6,
     "metadata": {},
     "output_type": "execute_result"
    }
   ],
   "source": [
    "accuracy_score(y_pred=clf.predict(X_test), y_true=y_test), \\\n",
    "accuracy_score(y_pred=my_clf.predict(X_test), y_true=y_test)"
   ]
  },
  {
   "cell_type": "markdown",
   "metadata": {},
   "source": [
    "## Ускоряем дерево решений (2 балла)\n",
    "Добиться скорости работы на fit не медленнее чем в 10 раз sklearn на данных wine. \n",
    "Для этого используем numpy."
   ]
  },
  {
   "cell_type": "code",
   "execution_count": 7,
   "metadata": {
    "scrolled": true
   },
   "outputs": [
    {
     "name": "stdout",
     "output_type": "stream",
     "text": [
      "CPU times: user 1.2 ms, sys: 156 µs, total: 1.36 ms\n",
      "Wall time: 1.11 ms\n"
     ]
    },
    {
     "data": {
      "text/plain": [
       "DecisionTreeClassifier(ccp_alpha=0.0, class_weight=None, criterion='gini',\n",
       "                       max_depth=None, max_features=None, max_leaf_nodes=None,\n",
       "                       min_impurity_decrease=0.0, min_impurity_split=None,\n",
       "                       min_samples_leaf=1, min_samples_split=2,\n",
       "                       min_weight_fraction_leaf=0.0, presort='deprecated',\n",
       "                       random_state=None, splitter='best')"
      ]
     },
     "execution_count": 7,
     "metadata": {},
     "output_type": "execute_result"
    }
   ],
   "source": [
    "%time clf.fit(X_train, y_train)"
   ]
  },
  {
   "cell_type": "code",
   "execution_count": 8,
   "metadata": {},
   "outputs": [
    {
     "name": "stdout",
     "output_type": "stream",
     "text": [
      "CPU times: user 6.79 ms, sys: 6.75 ms, total: 13.5 ms\n",
      "Wall time: 12.7 ms\n"
     ]
    }
   ],
   "source": [
    "%time my_clf.fit(X_train, y_train)"
   ]
  },
  {
   "cell_type": "markdown",
   "metadata": {},
   "source": [
    "## Боевое применение (3 балла)\n",
    "\n",
    "На практике Вы познакомились с датасетом Speed Dating Data. В нем каждая пара в быстрых свиданиях характеризуется определенным набором признаков. Задача -- предсказать, произойдет ли матч пары (колонка match). \n",
    "\n",
    "Пример работы с датасетом можете найти в практике пункт 2\n",
    "https://github.com/VVVikulin/ml1.sphere/blob/master/2019-09/lecture_06/pract-trees.ipynb\n",
    "\n",
    "Данные и описания колонок лежат тут\n",
    "https://cloud.mail.ru/public/8nHV/p6J7wY1y1/speed-dating-experiment/"
   ]
  },
  {
   "cell_type": "markdown",
   "metadata": {},
   "source": [
    "Скачайте датасет, обработайте данные, как показано на семинаре или своим собственным способом. Обучите дерево классифкации. В качестве таргета возьмите колонку 'match'. Постарайтесь хорошо обработать признаки, чтобы выбить максимальную точность. Если точность будет близка к случайному гаданию, задание не будет защитано. \n"
   ]
  },
  {
   "cell_type": "code",
   "execution_count": 9,
   "metadata": {},
   "outputs": [],
   "source": [
    "df = pd.read_csv('Speed Dating Data.csv', encoding='latin1')"
   ]
  },
  {
   "cell_type": "code",
   "execution_count": 10,
   "metadata": {},
   "outputs": [],
   "source": [
    "df = df.iloc[:, :97]\n",
    "\n",
    "df = df.dropna(subset=['attr_o'])\n",
    "df = df.dropna(subset=['shar_o'])\n",
    "df = df.dropna(subset=['fun_o'])\n",
    "df['attr_o_mean'] = df.groupby(by=['iid'], as_index=False)['attr_o'].transform(lambda s: np.mean(s.values))\n",
    "df['shar_o_mean'] = df.groupby(by=['iid'], as_index=False)['shar_o'].transform(lambda s: np.mean(s.values))\n",
    "df['fun_o_mean'] = df.groupby(by=['iid'], as_index=False)['fun_o'].transform(lambda s: np.mean(s.values))\n",
    "\n",
    "# df['attraction'] = df['attr_o_mean'] * df['attr1_1']"
   ]
  },
  {
   "cell_type": "code",
   "execution_count": 11,
   "metadata": {},
   "outputs": [],
   "source": [
    "df = df.drop(['age_o', 'race_o', 'pf_o_att', \n",
    "              'pf_o_sin', 'pf_o_int',\n",
    "              'pf_o_fun', 'pf_o_amb', 'pf_o_sha',\n",
    "              'dec_o', 'attr_o', 'sinc_o', 'intel_o', 'fun_o',\n",
    "              'amb_o', 'shar_o', 'like_o', 'prob_o','met_o',\n",
    "              'id', 'idg', 'condtn', 'round', 'position', 'positin1',\n",
    "              'order', 'partner', 'from', 'zipcode', 'field', 'undergra',\n",
    "              'sports','tvsports','exercise','dining','museums','art','hiking','gaming',\n",
    "              'clubbing','reading','tv','theater','movies','concerts','music','shopping','yoga',\n",
    "              'expnum', 'career', 'wave'], \n",
    "             axis=1)\n",
    "for i in [4, 5]:\n",
    "    feat = ['attr{}_1'.format(i), 'sinc{}_1'.format(i), \n",
    "            'intel{}_1'.format(i), 'fun{}_1'.format(i), \n",
    "            'amb{}_1'.format(i), 'shar{}_1'.format(i)]\n",
    "    if i != 4:\n",
    "        feat.remove('shar{}_1'.format(i))\n",
    "    df = df.drop(feat, axis=1)"
   ]
  },
  {
   "cell_type": "code",
   "execution_count": 12,
   "metadata": {},
   "outputs": [],
   "source": [
    "df = df.dropna(subset=['age', 'imprelig', 'imprace', 'date', 'pid'])\n",
    "df.loc[:, 'field_cd'] = df.loc[:, 'field_cd'].fillna(19)\n",
    "df.loc[:, 'career_c'] = df.loc[:, 'career_c'].fillna(18)\n",
    "df.loc[:, 'race'] = df.loc[:, 'race'].astype(np.int)\n",
    "df.loc[:, 'mn_sat'] = df.loc[:, 'mn_sat'].str.replace(',', '').astype(np.float)\n",
    "df.loc[:, 'tuition'] = df.loc[:, 'tuition'].str.replace(',', '').astype(np.float)\n",
    "df.loc[:, 'income'] = df.loc[:, 'income'].str.replace(',', '').astype(np.float)\n",
    "df.loc[:, 'pid'] = df.loc[:, 'pid'].astype(np.int)\n",
    "\n",
    "df.loc[:, 'totsum'] = df.loc[:, ['attr1_1', 'sinc1_1', 'intel1_1', 'fun1_1', 'amb1_1', 'shar1_1']].sum(axis=1)\n",
    "df.loc[:, ['attr1_1', 'sinc1_1', 'intel1_1', 'fun1_1', 'amb1_1', 'shar1_1']] = \\\n",
    "    (df.loc[:, ['attr1_1', 'sinc1_1', 'intel1_1', 'fun1_1', 'amb1_1', 'shar1_1']].T/df.loc[:, 'totsum'].T).T * 100\n",
    "df.loc[:, 'totsum'] = df.loc[:, ['attr2_1', 'sinc2_1', 'intel2_1', 'fun2_1', 'amb2_1', 'shar2_1']].sum(axis=1)\n",
    "df.loc[:, ['attr2_1', 'sinc2_1', 'intel2_1', 'fun2_1', 'amb2_1', 'shar2_1']] = \\\n",
    "    (df.loc[:, ['attr2_1', 'sinc2_1', 'intel2_1', 'fun2_1', 'amb2_1', 'shar2_1']].T/df.loc[:, 'totsum'].T).T * 100\n",
    "df = df.drop(['totsum'], axis=1)"
   ]
  },
  {
   "cell_type": "code",
   "execution_count": 13,
   "metadata": {},
   "outputs": [],
   "source": [
    "df.loc[:, 'career_c_2'] = [1 if x == 2 else 0 for x in df.career_c]\n",
    "df.loc[:, 'career_c_bad'] = [1 if x in {3,5,6,10,11,12,13,16} else 0 for x in df.career_c]\n",
    "df.loc[:, 'field_cd_bad'] = [1 if x > 8 else 0 for x in df.field_cd]\n",
    "df.loc[:, 'race_1'] = [True if x == 1 else False for x in df.race]\n",
    "df.loc[:, 'go_out_1'] = [1 if x == 1 else 0 for x in df.go_out]\n",
    "df.loc[:, 'go_out_4567'] = [1 if x >= 1 else 0 for x in df.go_out]\n",
    "\n",
    "\n",
    "df = df.drop(['field_cd', 'race', 'career_c', 'mn_sat', 'tuition', 'income'], axis=1)"
   ]
  },
  {
   "cell_type": "code",
   "execution_count": 14,
   "metadata": {},
   "outputs": [
    {
     "data": {
      "text/plain": [
       "((266, 35), (3465, 38))"
      ]
     },
     "execution_count": 14,
     "metadata": {},
     "output_type": "execute_result"
    }
   ],
   "source": [
    "df_male = df.query('gender == 1').drop_duplicates(subset=['iid', 'pid'])\\\n",
    "                                 .drop(['gender'], axis=1)\\\n",
    "                                 .dropna()\n",
    "df_female = df.query('gender == 0').drop_duplicates(subset=['iid'])\\\n",
    "                                   .drop(['gender', 'match', 'int_corr', 'samerace'], axis=1)\\\n",
    "                                   .dropna()\n",
    "        \n",
    "df_male.columns = df_male.columns + '_m'\n",
    "df_female.columns = df_female.columns + '_f'\n",
    "df_female.shape, df_male.shape "
   ]
  },
  {
   "cell_type": "code",
   "execution_count": 15,
   "metadata": {},
   "outputs": [
    {
     "data": {
      "text/plain": [
       "(232, 71)"
      ]
     },
     "execution_count": 15,
     "metadata": {},
     "output_type": "execute_result"
    }
   ],
   "source": [
    "df_female = df_female.rename(columns={\"pid_f\": \"iid_m\", \"iid_f\": \"pid_m\"})\n",
    "df_male = df_male.rename(columns={\"int_corr_m\": \"int_corr\", \"samerace_m\": \"samerace\"})\n",
    "res_df = pd.merge(df_male, df_female, how='inner', on=('iid_m', 'pid_m'))\n",
    "res_df.shape"
   ]
  },
  {
   "cell_type": "code",
   "execution_count": 16,
   "metadata": {},
   "outputs": [],
   "source": [
    "res_df = res_df.drop(['iid_m', 'pid_m', \\\n",
    "                     'attr3_1_m', 'sinc3_1_m', 'fun3_1_m', 'intel3_1_m', 'amb3_1_m',\\\n",
    "                     'attr3_1_f', 'sinc3_1_f', 'fun3_1_f', 'intel3_1_f', 'amb3_1_f', \\\n",
    "                     'goal_m', 'goal_f', \\\n",
    "                      'field_cd_bad_m', 'field_cd_bad_f', \\\n",
    "                      'career_c_bad_m', 'career_c_bad_f', 'career_c_2_m', 'career_c_2_f',\n",
    "                     ], axis=1)"
   ]
  },
  {
   "cell_type": "code",
   "execution_count": 17,
   "metadata": {},
   "outputs": [],
   "source": [
    "res_df['attr_m2f'] = res_df['attr1_1_f'] * res_df['attr_o_mean_m']\n",
    "res_df['attr_f2m'] = res_df['attr1_1_m'] * res_df['attr_o_mean_f']\n",
    "res_df['age_dif'] = np.abs(res_df['age_f'] - res_df['age_m'])"
   ]
  },
  {
   "cell_type": "markdown",
   "metadata": {},
   "source": [
    "Разбейте датасет на трейн и валидацию. Подберите на валидации оптимальный критерий  информативности. \n",
    "Постройте графики зависимости точности на валидации от глубины дерева, от минимального числа объектов для сплита. \n",
    "Какой максимальной точности удалось достигнуть?"
   ]
  },
  {
   "cell_type": "code",
   "execution_count": 18,
   "metadata": {},
   "outputs": [
    {
     "data": {
      "text/plain": [
       "((185, 53), array([164,  21]))"
      ]
     },
     "execution_count": 18,
     "metadata": {},
     "output_type": "execute_result"
    }
   ],
   "source": [
    "y = np.array(res_df.match_m)\n",
    "X = np.array(res_df.drop(['match_m'], axis=1))\n",
    "X_train, X_test, y_train, y_test = train_test_split(X, y, test_size=0.2, shuffle=True, stratify=y)\n",
    "X_train.shape, np.bincount(y_train)"
   ]
  },
  {
   "cell_type": "code",
   "execution_count": 19,
   "metadata": {},
   "outputs": [
    {
     "data": {
      "text/plain": [
       "(0.851063829787234,\n",
       " array([0, 0, 0, 0, 0, 0, 0, 0, 0, 0, 1, 0, 0, 0, 0, 0, 0, 0, 0, 1, 0, 0,\n",
       "        0, 0, 0, 0, 0, 0, 1, 0, 0, 0, 0, 1, 0, 0, 0, 0, 0, 0, 0, 1, 0, 0,\n",
       "        0, 0, 0]),\n",
       " array([0, 0, 0, 0, 0, 1, 0, 0, 0, 0, 0, 0, 0, 0, 0, 0, 0, 0, 0, 0, 0, 0,\n",
       "        0, 0, 0, 0, 0, 0, 0, 0, 0, 0, 0, 0, 0, 0, 1, 0, 0, 0, 0, 0, 0, 0,\n",
       "        0, 0, 0]))"
      ]
     },
     "execution_count": 19,
     "metadata": {},
     "output_type": "execute_result"
    }
   ],
   "source": [
    "my_clf = MyDecisionTreeClassifier(data_percentage=1, min_IG=0.0001)\n",
    "my_clf.fit(X_train, y_train)\n",
    "y_pred = my_clf.predict(X_test)\n",
    "\n",
    "accuracy_score(y_pred=y_pred, y_true=y_test), \\\n",
    "y_test, y_pred"
   ]
  },
  {
   "cell_type": "code",
   "execution_count": 20,
   "metadata": {},
   "outputs": [
    {
     "data": {
      "text/plain": [
       "({'criterion': 'entropy',\n",
       "  'data_percentage': 0.7,\n",
       "  'max_depth': 2,\n",
       "  'min_IG': 0.1,\n",
       "  'min_samples_split': 3},\n",
       " 0.8864864864864865)"
      ]
     },
     "execution_count": 20,
     "metadata": {},
     "output_type": "execute_result"
    }
   ],
   "source": [
    "from scipy.stats import randint as randint\n",
    "from sklearn.model_selection import StratifiedKFold\n",
    "        \n",
    "param_grid = {\n",
    "    'criterion': ['gini', 'entropy'],\n",
    "    'max_depth': randint(2, 7),\n",
    "    'min_samples_split': range(1, 6),\n",
    "    'min_IG': [0.1, 0.01, 0.001],\n",
    "    'data_percentage': [0.3, 0.5, 0.6,0.7],\n",
    "    }\n",
    "\n",
    "kf = StratifiedKFold(n_splits=5, shuffle=True)\n",
    "random_search = RandomizedSearchCV(my_clf, param_grid, cv=kf)\n",
    "# random_search = GridSearchCV(my_clf, param_grid, cv=kf)\n",
    "random_search.fit(X_train, y_train)\n",
    "\n",
    "random_search.best_params_, random_search.best_score_"
   ]
  },
  {
   "cell_type": "code",
   "execution_count": 21,
   "metadata": {},
   "outputs": [
    {
     "data": {
      "text/plain": [
       "0.8936170212765957"
      ]
     },
     "execution_count": 21,
     "metadata": {},
     "output_type": "execute_result"
    }
   ],
   "source": [
    "best_model = random_search.best_estimator_\n",
    "accuracy_score(y_pred=best_model.predict(X_test), y_true=y_test)"
   ]
  },
  {
   "cell_type": "code",
   "execution_count": 22,
   "metadata": {},
   "outputs": [],
   "source": [
    "from sklearn.model_selection import validation_curve"
   ]
  },
  {
   "cell_type": "code",
   "execution_count": 23,
   "metadata": {},
   "outputs": [
    {
     "data": {
      "text/plain": [
       "Text(0, 0.5, 'accuracy')"
      ]
     },
     "execution_count": 23,
     "metadata": {},
     "output_type": "execute_result"
    },
    {
     "data": {
      "image/png": "[encoded data removed]",
      "text/plain": [
       "<Figure size 432x288 with 1 Axes>"
      ]
     },
     "metadata": {
      "needs_background": "light"
     },
     "output_type": "display_data"
    }
   ],
   "source": [
    "model = my_clf = MyDecisionTreeClassifier(data_percentage=0.1, min_IG=0.0001, \\\n",
    "                                          min_samples_split=1, criterion='entropy')\n",
    "cv = StratifiedKFold(n_splits=20, shuffle=True, random_state=124)\n",
    "depths = range(1, 11)\n",
    "tree_train_scores, tree_valid_scores = validation_curve(model, X, y, \n",
    "                                              'max_depth', depths,\n",
    "                                              cv=cv, scoring='accuracy')\n",
    "\n",
    "train_score_mean = tree_train_scores.mean(axis=1)\n",
    "valid_scores_mean = tree_valid_scores.mean(axis=1)\n",
    "\n",
    "plt.plot(depths, train_score_mean, c='b', lw=2)\n",
    "plt.plot(depths, valid_scores_mean, c='r', lw=2)\n",
    "\n",
    "plt.xlabel('max depth')\n",
    "plt.ylabel('accuracy')"
   ]
  },
  {
   "cell_type": "code",
   "execution_count": 24,
   "metadata": {},
   "outputs": [],
   "source": [
    "model = my_clf = MyDecisionTreeClassifier(data_percentage=1, min_IG=0.0001, \\\n",
    "#                                           max_depth=3, \\\n",
    "                                          criterion='entropy')\n",
    "cv = StratifiedKFold(n_splits=10, shuffle=True, random_state=124)\n",
    "min_samples_split = range(1, 11)\n",
    "tree_train_scores, tree_valid_scores = validation_curve(model, X, y, \n",
    "                                              'min_samples_split', min_samples_split,\n",
    "                                              cv=cv, scoring='accuracy')"
   ]
  },
  {
   "cell_type": "code",
   "execution_count": 25,
   "metadata": {},
   "outputs": [
    {
     "data": {
      "text/plain": [
       "Text(0, 0.5, 'accuracy')"
      ]
     },
     "execution_count": 25,
     "metadata": {},
     "output_type": "execute_result"
    },
    {
     "data": {
      "image/png": "[encoded data removed]",
      "text/plain": [
       "<Figure size 432x288 with 1 Axes>"
      ]
     },
     "metadata": {
      "needs_background": "light"
     },
     "output_type": "display_data"
    }
   ],
   "source": [
    "train_score_mean = tree_train_scores.mean(axis=1)\n",
    "valid_scores_mean = tree_valid_scores.mean(axis=1)\n",
    "\n",
    "plt.plot(min_samples_split, train_score_mean, c='b', lw=2)\n",
    "plt.plot(min_samples_split, valid_scores_mean, c='r', lw=2)\n",
    "\n",
    "plt.xlabel('min_samples_split')\n",
    "plt.ylabel('accuracy')"
   ]
  },
  {
   "cell_type": "code",
   "execution_count": 26,
   "metadata": {},
   "outputs": [
    {
     "data": {
      "text/plain": [
       "(0.8936170212765957,\n",
       " array([0, 0, 0, 0, 0, 0, 0, 0, 0, 0, 0, 0, 0, 0, 0, 0, 0, 0, 0, 0, 0, 0,\n",
       "        0, 0, 0, 0, 0, 0, 0, 0, 0, 0, 0, 1, 0, 0, 1, 0, 0, 0, 0, 0, 0, 0,\n",
       "        0, 0, 0]),\n",
       " array([0, 0, 0, 0, 0, 0, 0, 0, 0, 0, 1, 0, 0, 0, 0, 0, 0, 0, 0, 1, 0, 0,\n",
       "        0, 0, 0, 0, 0, 0, 1, 0, 0, 0, 0, 1, 0, 0, 0, 0, 0, 0, 0, 1, 0, 0,\n",
       "        0, 0, 0]))"
      ]
     },
     "execution_count": 26,
     "metadata": {},
     "output_type": "execute_result"
    }
   ],
   "source": [
    "my_clf = MyDecisionTreeClassifier(data_percentage=0.1, min_IG=0.0001, max_depth=3, \\\n",
    "                                  criterion='entropy', min_samples_split=8)\n",
    "my_clf.fit(X_train, y_train);\n",
    "\n",
    "accuracy_score(y_pred=my_clf.predict(X_test), y_true=y_test), \\\n",
    "my_clf.predict(X_test), y_test"
   ]
  },
  {
   "cell_type": "markdown",
   "metadata": {},
   "source": [
    "## Находим самые важные признаки (2 балла)\n",
    "\n"
   ]
  },
  {
   "cell_type": "markdown",
   "metadata": {},
   "source": [
    "По построенному дереву  легко понять, какие признаки лучше всего помогли решить задачу. Часто это бывает нужно  не только  для сокращения размерности в данных, но и для лучшего понимания прикладной задачи. Например, Вы хотите понять, какие признаки стоит еще конструировать -- для этого нужно понимать, какие из текущих лучше всего работают в дереве. "
   ]
  },
  {
   "cell_type": "markdown",
   "metadata": {},
   "source": [
    "Самый простой метод -- посчитать число сплитов, где использовался данные признак. Это не лучший вариант, так как по признаку который принимает всего 2 значения, но который почти точно разделяет выборку, число сплитов будет очень 1, но при этом признак сам очень хороший. \n",
    "В этом задании предлагается для каждого признака считать суммарный gain (в лекции обозначено как Q) при использовании этого признака в сплите. Тогда даже у очень хороших признаков с маленьким число сплитов это значение должно быть довольно высоким.  "
   ]
  },
  {
   "cell_type": "markdown",
   "metadata": {},
   "source": [
    "Реализовать это довольно просто: создаете словарь номер фичи : суммарный гейн и добавляете в нужную фичу каждый раз, когда используете ее при построении дерева. "
   ]
  },
  {
   "cell_type": "markdown",
   "metadata": {},
   "source": [
    "Добавьте функционал, который определяет значения feature importance. Обучите дерево на датасете Speed Dating Data.\n",
    "Выведите 10 главных фичей по важности."
   ]
  },
  {
   "cell_type": "code",
   "execution_count": 27,
   "metadata": {},
   "outputs": [],
   "source": [
    "my_clf = MyDecisionTreeClassifier(data_percentage=1, min_IG=0.0001, criterion='entropy', \\\n",
    "                                  max_depth=5,  min_samples_split=8)\n",
    "my_clf.fit(X, y);"
   ]
  },
  {
   "cell_type": "code",
   "execution_count": 28,
   "metadata": {},
   "outputs": [
    {
     "data": {
      "text/html": [
       "<div>\n",
       "<style scoped>\n",
       "    .dataframe tbody tr th:only-of-type {\n",
       "        vertical-align: middle;\n",
       "    }\n",
       "\n",
       "    .dataframe tbody tr th {\n",
       "        vertical-align: top;\n",
       "    }\n",
       "\n",
       "    .dataframe thead th {\n",
       "        text-align: right;\n",
       "    }\n",
       "</style>\n",
       "<table border=\"1\" class=\"dataframe\">\n",
       "  <thead>\n",
       "    <tr style=\"text-align: right;\">\n",
       "      <th></th>\n",
       "      <th>id_f</th>\n",
       "      <th>weight</th>\n",
       "      <th>name</th>\n",
       "    </tr>\n",
       "  </thead>\n",
       "  <tbody>\n",
       "    <tr>\n",
       "      <th>39</th>\n",
       "      <td>39</td>\n",
       "      <td>0.220876</td>\n",
       "      <td>sinc2_1_f</td>\n",
       "    </tr>\n",
       "    <tr>\n",
       "      <th>0</th>\n",
       "      <td>0</td>\n",
       "      <td>0.169014</td>\n",
       "      <td>int_corr</td>\n",
       "    </tr>\n",
       "    <tr>\n",
       "      <th>4</th>\n",
       "      <td>4</td>\n",
       "      <td>0.145923</td>\n",
       "      <td>imprelig_m</td>\n",
       "    </tr>\n",
       "    <tr>\n",
       "      <th>44</th>\n",
       "      <td>44</td>\n",
       "      <td>0.136145</td>\n",
       "      <td>attr_o_mean_f</td>\n",
       "    </tr>\n",
       "    <tr>\n",
       "      <th>7</th>\n",
       "      <td>7</td>\n",
       "      <td>0.115891</td>\n",
       "      <td>exphappy_m</td>\n",
       "    </tr>\n",
       "    <tr>\n",
       "      <th>36</th>\n",
       "      <td>36</td>\n",
       "      <td>0.079997</td>\n",
       "      <td>amb1_1_f</td>\n",
       "    </tr>\n",
       "    <tr>\n",
       "      <th>29</th>\n",
       "      <td>29</td>\n",
       "      <td>0.058455</td>\n",
       "      <td>date_f</td>\n",
       "    </tr>\n",
       "    <tr>\n",
       "      <th>31</th>\n",
       "      <td>31</td>\n",
       "      <td>0.047608</td>\n",
       "      <td>exphappy_f</td>\n",
       "    </tr>\n",
       "    <tr>\n",
       "      <th>3</th>\n",
       "      <td>3</td>\n",
       "      <td>0.041323</td>\n",
       "      <td>imprace_m</td>\n",
       "    </tr>\n",
       "    <tr>\n",
       "      <th>45</th>\n",
       "      <td>45</td>\n",
       "      <td>0.031548</td>\n",
       "      <td>shar_o_mean_f</td>\n",
       "    </tr>\n",
       "  </tbody>\n",
       "</table>\n",
       "</div>"
      ],
      "text/plain": [
       "    id_f    weight           name\n",
       "39    39  0.220876      sinc2_1_f\n",
       "0      0  0.169014       int_corr\n",
       "4      4  0.145923     imprelig_m\n",
       "44    44  0.136145  attr_o_mean_f\n",
       "7      7  0.115891     exphappy_m\n",
       "36    36  0.079997       amb1_1_f\n",
       "29    29  0.058455         date_f\n",
       "31    31  0.047608     exphappy_f\n",
       "3      3  0.041323      imprace_m\n",
       "45    45  0.031548  shar_o_mean_f"
      ]
     },
     "execution_count": 28,
     "metadata": {},
     "output_type": "execute_result"
    }
   ],
   "source": [
    "id_f = pd.Series(range(len(my_clf.get_feature_importance())), name='id_f')\n",
    "wt_f = pd.Series(my_clf.get_feature_importance(), name='weight')\n",
    "nm_f = pd.Series(res_df.columns[1:], name='name')\n",
    "pd.concat([id_f,wt_f,nm_f], axis=1).sort_values(by='weight', ascending=False).head(10)"
   ]
  },
  {
   "cell_type": "markdown",
   "metadata": {},
   "source": [
    "## Фидбек (бесценно)"
   ]
  },
  {
   "cell_type": "markdown",
   "metadata": {},
   "source": [
    "* Какие аспекты обучения деревьев решений Вам показались непонятными? Какое место стоит дополнительно объяснить?"
   ]
  },
  {
   "cell_type": "markdown",
   "metadata": {},
   "source": [
    "### Ваш ответ здесь"
   ]
  },
  {
   "cell_type": "markdown",
   "metadata": {},
   "source": [
    "* Здесь Вы можете оставить отзыв о этой домашней работе или о всем курсе."
   ]
  },
  {
   "cell_type": "markdown",
   "metadata": {},
   "source": [
    "### ВАШ ОТЗЫВ ЗДЕСЬ\n",
    "\n"
   ]
  },
  {
   "cell_type": "code",
   "execution_count": null,
   "metadata": {},
   "outputs": [],
   "source": []
  },
  {
   "cell_type": "code",
   "execution_count": null,
   "metadata": {},
   "outputs": [],
   "source": []
  }
 ],
 "metadata": {
  "anaconda-cloud": {},
  "kernelspec": {
   "display_name": "Python 3",
   "language": "python",
   "name": "python3"
  },
  "language_info": {
   "codemirror_mode": {
    "name": "ipython",
    "version": 3
   },
   "file_extension": ".py",
   "mimetype": "text/x-python",
   "name": "python",
   "nbconvert_exporter": "python",
   "pygments_lexer": "ipython3",
   "version": "3.6.10"
  }
 },
 "nbformat": 4,
 "nbformat_minor": 2
}
