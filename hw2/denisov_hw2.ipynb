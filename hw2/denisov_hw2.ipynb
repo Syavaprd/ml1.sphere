{
 "cells": [
  {
   "cell_type": "markdown",
   "metadata": {},
   "source": [
    "# Алгоритмы интеллектуальной обработки больших объемов данных\n",
    "## Домашнее задание №2: Линейные модели\n"
   ]
  },
  {
   "cell_type": "markdown",
   "metadata": {},
   "source": [
    "###### <hr\\>\n",
    "**Общая информация**\n",
    "\n",
    "**Срок сдачи:** 09 ноября 18:00 Сдача **очная** на онлайн занятии. <br\\>\n",
    "\n",
    "\n",
    "Используйте данный Ipython Notebook при оформлении домашнего задания.\n",
    "\n",
    "Присылать ДЗ необходимо в виде ссылки на свой github репозиторий на почту ml1.sphere@mail.ru с указанием темы в следующем формате:\n",
    "\n",
    "[ML0920, Задание 2] Фамилия Имя.\n",
    "\n",
    "\n",
    "\n",
    "**Штрафные баллы:**\n",
    "\n",
    "1. Невыполнение PEP8 -1 балл\n",
    "2. Отсутствие фамилии в имени скрипта (скрипт должен называться по аналогии со stroykova_hw2.ipynb) -1 балл\n",
    "3. Все строчки должны быть выполнены. Нужно, чтобы output команды можно было увидеть уже в git'е. В противном случае -1 балл\n",
    "4. При оформлении ДЗ нужно пользоваться данным файлом в качестве шаблона. Не нужно удалять и видоизменять написанный код и текст, если явно не указана такая возможность. В противном случае -1 балл\n",
    "<hr\\>"
   ]
  },
  {
   "cell_type": "code",
   "execution_count": 2,
   "metadata": {},
   "outputs": [],
   "source": [
    "import pandas as pd\n",
    "import numpy as np\n",
    "import matplotlib.pyplot as plt \n",
    "\n",
    "%matplotlib inline\n",
    "  \n",
    "plt.style.use('ggplot') \n",
    "plt.rcParams['figure.figsize'] = (12,5) "
   ]
  },
  {
   "cell_type": "markdown",
   "metadata": {},
   "source": [
    "Здравствуйте, уважаемые студенты! \n",
    "\n",
    "В этом задании мы будем реализовать линейные модели. Необходимо реализовать линейную и логистическую регрессии с L2 регуляризацией"
   ]
  },
  {
   "cell_type": "markdown",
   "metadata": {},
   "source": [
    "# Теоретическое введение\n",
    "\n"
   ]
  },
  {
   "cell_type": "markdown",
   "metadata": {},
   "source": [
    "Линейная регрессия решает задачу регрессии и оптимизирует функцию потерь MSE \n",
    "\n",
    "$$L(w) =  \\frac{1}{N}\\left[\\sum_i (y_i - a_i) ^ 2 \\right], $$ где $y_i$ $-$ целевая функция,  $a_i = a(x_i) =  \\langle\\,x_i,w\\rangle ,$ $-$ предсказание алгоритма на объекте $x_i$, $w$ $-$ вектор весов (размерности $D$), $x_i$ $-$ вектор признаков (такой же размерности $D$).\n",
    "\n",
    "Не забываем, что здесь и далее  мы считаем, что в $x_i$ есть тождественный вектор единиц, ему соответствует вес $w_0$.\n"
   ]
  },
  {
   "cell_type": "markdown",
   "metadata": {},
   "source": [
    "Логистическая регрессия является линейным классификатором, который оптимизирует так называемый функционал log loss:"
   ]
  },
  {
   "cell_type": "markdown",
   "metadata": {},
   "source": [
    "$$L(w) = - \\frac{1}{N}\\left[\\sum_i y_i \\log a_i + ( 1 - y_i) \\log (1 - a_i) \\right],$$\n",
    "где  $y_i  \\in \\{0,1\\}$ $-$ метка класса, $a_i$ $-$ предсказание алгоритма на объекте $x_i$. Модель пытается предсказать апостериорую вероятность объекта принадлежать к классу \"1\":\n",
    "$$ p(y_i = 1 | x_i) = a(x_i) =  \\sigma( \\langle\\,x_i,w\\rangle ),$$\n",
    "$w$ $-$ вектор весов (размерности $D$), $x_i$ $-$ вектор признаков (такой же размерности $D$).\n",
    "\n",
    "Функция $\\sigma(x)$ $-$ нелинейная функция, пероводящее скалярное произведение объекта на веса в число $\\in (0,1)$ (мы же моделируем вероятность все-таки!)\n",
    "\n",
    "$$\\sigma(x) = \\frac{1}{1 + \\exp(-x)}$$\n",
    "\n",
    "Если внимательно посмотреть на функцию потерь, то можно заметить, что в зависимости от правильного ответа алгоритм штрафуется или функцией $-\\log a_i$, или функцией $-\\log (1 - a_i)$.\n",
    "\n"
   ]
  },
  {
   "cell_type": "markdown",
   "metadata": {},
   "source": [
    "Часто для решения проблем, которые так или иначе связаны с проблемой переобучения, в функционал качества добавляют слагаемое, которое называют ***регуляризацией***. Итоговый функционал для линейной регрессии тогда принимает вид:\n",
    "\n",
    "$$L(w) =  \\frac{1}{N}\\left[\\sum_i (y_i - a_i) ^ 2 \\right] + \\frac{1}{C}R(w) $$\n",
    "\n",
    "Для логистической: \n",
    "$$L(w) = - \\frac{1}{N}\\left[\\sum_i y_i \\log a_i + ( 1 - y_i) \\log (1 - a_i) \\right] +  \\frac{1}{C}R(w)$$\n",
    "\n",
    "Самое понятие регуляризации введено основателем ВМК академиком Тихоновым https://ru.wikipedia.org/wiki/Метод_регуляризации_Тихонова\n",
    "\n",
    "Идейно методика регуляризации заключается в следующем $-$ мы рассматриваем некорректно поставленную задачу (что это такое можно найти в интернете), для того чтобы сузить набор различных вариантов (лучшие из которых будут являться переобучением ) мы вводим дополнительные ограничения на множество искомых решений. На лекции Вы уже рассмотрели два варианта регуляризации.\n",
    "\n",
    "$L1$ регуляризация:\n",
    "$$R(w) = \\sum_{j=1}^{D}|w_j|$$\n",
    "$L2$ регуляризация:\n",
    "$$R(w) =  \\sum_{j=1}^{D}w_j^2$$\n",
    "\n",
    "С их помощью мы ограничиваем модель в  возможности выбора каких угодно весов минимизирующих наш лосс, модель уже не сможет подстроиться под данные как ей угодно. \n",
    "\n",
    "Вам нужно добавить соотвествущую Вашему варианту $L2$ регуляризацию.\n",
    "\n",
    "И так, мы поняли, какую функцию ошибки будем минимизировать, разобрались, как получить предсказания по объекту и обученным весам. Осталось разобраться, как получить оптимальные веса. Для этого нужно выбрать какой-то метод оптимизации.\n",
    "\n"
   ]
  },
  {
   "cell_type": "markdown",
   "metadata": {},
   "source": [
    "Градиентный спуск является самым популярным алгоритмом обучения линейных моделей. В этом задании Вам предложат реализовать стохастический градиентный спуск или  мини-батч градиентный спуск (мини-батч на русский язык довольно сложно перевести, многие переводят это как \"пакетный\", но мне не кажется этот перевод удачным). Далее нам потребуется определение **эпохи**.\n",
    "Эпохой в SGD и MB-GD называется один проход по **всем** объектам в обучающей выборки.\n",
    "* В SGD градиент расчитывается по одному случайному объекту. Сам алгоритм выглядит примерно так:\n",
    "        1) Перемешать выборку\n",
    "        2) Посчитать градиент функции потерь на одном объекте (далее один объект тоже будем называть батчем)\n",
    "        3) Сделать шаг спуска\n",
    "        4) Повторять 2) и 3) пока не пройдет максимальное число эпох.\n",
    "* В Mini Batch SGD - по подвыборке объектов. Сам алгоритм выглядит примерно так::\n",
    "        1) Перемешать выборку, выбрать размер мини-батча (от 1 до размера выборки)\n",
    "        2) Почитать градиент функции потерь по мини-батчу (не забыть поделить на  число объектов в мини-батче)\n",
    "        3) Сделать шаг спуска\n",
    "        4) Повторять 2) и 3) пока не пройдет максимальное число эпох.\n",
    "* Для отладки алгоритма реализуйте возможность  вывода средней ошибки на обучении модели по объектам (мини-батчам). После шага градиентного спуска посчитайте значение ошибки на объекте (или мини-батче), а затем усредните, например, по ста шагам. Если обучение проходит корректно, то мы должны увидеть, что каждые 100 шагов функция потерь уменьшается. \n",
    "* Правило останова - максимальное количество эпох\n",
    "    \n"
   ]
  },
  {
   "cell_type": "markdown",
   "metadata": {},
   "source": [
    "# Теоретические вопросы (2 балла)\n",
    "В этой части Вам будут предложены теоретичские вопросы и задачи по теме. Вы, конечно, можете списать их у своего товарища или найти решение в интернете, но учтите, что они обязательно войдут в теоретический коллоквиум. Лучше разобраться в теме сейчас и успешно ответить на коллоквиуме, чем списать, не разобравшись в материале, и быть терзаемым совестью. \n",
    "\n",
    "\n",
    "Формулы надо оформлять в формате **LaTeX**."
   ]
  },
  {
   "cell_type": "markdown",
   "metadata": {},
   "source": [
    "Задача 1. Градиент для линейной регрессии.\n",
    "* Выпишите формулу обновления весов для линейной регрессии с L2 регуляризацией для мини-батч градиентого спуска размера $n$:\n",
    "\n",
    "$$ w_{new} = w_{old} - ... $$\n",
    "\n",
    " Отнеситесь к этому пункту максимально серьезно, это Вам нужно будет реализовать в задании.\n",
    " \n",
    "Проанализруйте итоговую формулу градиента - как  интуитивно можно  описать, чему равен градиент?"
   ]
  },
  {
   "cell_type": "markdown",
   "metadata": {},
   "source": [
    "***Ваше решение здесь*** $$ w_{new} = w_{old} - \\alpha \\nabla_{w}L(w)$$\n",
    "$$w_{new} = w_{old} - 2 \\alpha ( \\frac{1}{n} \\sum_{i = 1}^{n} ( \\langle x_{i}, w_{old} \\rangle - y_{i})x_{i} + \\frac{w_{old}}{C})$$ $\\alpha$ - неотрицательная величина, длина шага оптимизации, может быть задана как невозрастающая $f(k)$, где $k$ - номер шага оптимизации"
   ]
  },
  {
   "cell_type": "markdown",
   "metadata": {},
   "source": [
    "Задача 2. Градиент для логистической регрессии.\n",
    "* Выпишите формулу обновления весов для логистической регрессии с L2 регуляризацией  для мини-батч градиентого спуска размера $n$:\n",
    "\n",
    "$$ w_{new} = w_{old} - ... $$\n",
    "\n",
    " Отнеситесь к этому пункту максимально серьезно, это Вам нужно будет реализовать в задании.\n",
    " \n",
    "Проанализруйте итоговую формулу градиента - как  интуитивно можно  описать, чему равен градиент? Как соотносится этот градиент с градиентом, возникающий в задаче линейной регрессии?\n",
    "\n",
    "Подсказка: Вам градиент, которой получается если “в лоб” продифференцировать,  надо немного преобразовать.\n",
    "Надо подставить, что $1 - \\sigma(w,x) $ это  $1 - a(x_i)$, а  $-\\sigma(w,x)$ это $0 - a(x_i)$.  Тогда получится свести к одной красивой формуле с линейной регрессией, которую программировать будет намного проще."
   ]
  },
  {
   "cell_type": "markdown",
   "metadata": {},
   "source": [
    "***Ваше решение здесь*** $$ w_{new} = w_{old} - \\alpha \\nabla_{w}L(w)$$\n",
    "$$ w_{new} = w_{old} - \\alpha (\\frac{1}{nln2} \\sum_{i = 1}^{n} \\frac{((1 - y_{i})e^{\\langle x_{i}, w_{old} \\rangle} - y_{i})x_{i}}{e^{\\langle x_{i}, w_{old} \\rangle} + 1} + \\frac{2 w_{old}}{C})$$\n",
    "Не похоже на формулу для LinReg, однако:\n",
    "$$ w_{new} = w_{old} - \\alpha (\\frac{1}{nln2} \\sum_{i = 1}^{n} \\frac{((1 - y_{i}) - y_{i}e^{- \\langle x_{i}, w_{old} \\rangle})x_{i}}{1 + e^{- \\langle x_{i}, w_{old} \\rangle}} + \\frac{2 w_{old}}{C})$$\n",
    "$$ w_{new} = w_{old} - \\alpha (\\frac{1}{nln2} \\sum_{i = 1}^{n} (\\frac{1}{1 + e^{- \\langle x_{i}, w_{old} \\rangle}} - y_{i})x_{i} + \\frac{2 w_{old}}{C})$$\n",
    "Итого, общая формула для двух алгоритмов имеет вид:\n",
    "$$ w_{new} = w_{old} - \\alpha (\\frac{1}{n} \\sum_{i = 1}^{n} (a(x_{i}) - y_{i})x_{i} + \\frac{w_{old}}{C})$$\n",
    "(все константы убраны так как не влияют на сходимость)"
   ]
  },
  {
   "cell_type": "markdown",
   "metadata": {},
   "source": [
    "Задача 3. Точное решение линейной регрессии\n",
    "\n",
    "На лекции было показано, что точное решение линейной регрессии имеет вид $w = (X^TX)^{-1}X^TY $. \n",
    "* Покажите, что это действительно является точкой минимума в случае, если матрица X имеет строк не меньше, чем столбцов и имеет полный ранг. Подсказка: посчитайте Гессиан и покажите, что в этом случае он положительно определен. \n",
    "* Выпишите точное решение для модели с $L2$ регуляризацией. Как L2 регуляризация помогает с точным решением где матрица X имеет линейно зависимые признаки?"
   ]
  },
  {
   "cell_type": "markdown",
   "metadata": {},
   "source": [
    "***Ваше решение здесь***\n",
    "\n",
    "Гессиан выглядит так.\n",
    "$$ H(f(w)) =\n",
    " \\begin{pmatrix}\n",
    "  \\frac{\\partial^{2} f}{\\partial w_{0}^{2}} & \\frac{\\partial^{2} f}{\\partial w_{0} \\partial w_{1}} & \\cdots & \\frac{\\partial^{2} f}{\\partial w_{0} \\partial w_{D}} \\\\\n",
    "  \\frac{\\partial^{2} f}{\\partial w_{1} \\partial w_{0}} & \\frac{\\partial^{2} f}{\\partial w_{0}^{1}} & \\cdots & \\frac{\\partial^{2} f}{\\partial w_{1} \\partial w_{D}} \\\\\n",
    "  \\vdots  & \\vdots  &  \\frac{\\partial^{2} f}{\\partial w_{i} \\partial w_{j}} & \\vdots  \\\\\n",
    "  \\frac{\\partial^{2} f}{\\partial w_{D} \\partial w_{0}} & \\frac{\\partial^{2} f}{\\partial w_{D} \\partial w_{1}} & \\cdots & \\frac{\\partial^{2} f}{\\partial w_{D}^{2}} \n",
    " \\end{pmatrix}$$\n",
    " В нашем случае $f(w) = \\frac{1}{n}(w^{T} X^{T} X w - w^{T} X^{T}y - y^{T}Xw + y^{T}y)$\n",
    " \n",
    " Далее деление на $n$ можно опустить, так как мы ищем минимум функции, а умножение на константу на это не влияет\n",
    " \n",
    " Тогда:\n",
    " $$ H(f(w)) = 2\n",
    " \\begin{pmatrix}\n",
    "  x_{0}^{T}x_{0} & x_{0}^{T}x_{1} & \\cdots & x_{0}^{T}x_{D} \\\\\n",
    "  x_{1}^{T}x_{0} & x_{1}^{T}x_{1} & \\cdots & x_{1}^{T}x_{D} \\\\\n",
    "  \\vdots  & \\vdots  & x_{i}^{T}x_{j} & \\vdots  \\\\\n",
    "  x_{D}^{T}x_{0} & x_{D}^{T}x_{1} & \\cdots & x_{D}^{T}x_{D}\n",
    " \\end{pmatrix}$$\n",
    " \n",
    " Получается, что $ H(f(w)) = 2 X^{T}X \\implies \\exists B = \\sqrt{2} X: B^{T}B = H(f(w))$, при этом X невырождена, так как имеет строк не меньше, чем столбцов и полный ранг $\\implies H(f(w))$ положительно определена. \n",
    " \n",
    "Для L2 регуляризации: \n",
    "$$f(w) = \\frac{1}{n}(w^{T} X^{T} X w - w^{T} X^{T}y - y^{T}Xw + y^{T}y) + \\frac{1}{C}w^{T}w$$\n",
    "$$ \\nabla_{w}f(w) = 2X^{T}Xw - 2X^{T}y + \\frac{2}{C}Iw $$\n",
    "$$ \\nabla_{w} f(w) = 0 \\iff w = (X^{T}X + \\frac{I}{C})^{-1} X^{T}y $$\n",
    "\n",
    "Нашли решение для линейной регрессии с L2 регуляризацией\n",
    "L2 помогает, тк делает матрицу невырожденной."
   ]
  },
  {
   "cell_type": "markdown",
   "metadata": {},
   "source": [
    "Задача 4.  Предсказываем вероятности.\n",
    "\n",
    "Когда говорят о логистической регрессии, произносят фразу, что она \"предсказывает вероятности положительного класса\". Давайте разберемся, что же за этим стоит. Посчитаем математическое ожидание функции потерь и проверим, что предсказание алгоритма, оптимизирующее это мат. ожидание, будет являться вероятностью положительного класса. \n",
    "\n",
    "И так, функция потерь на объекте $x_i$, который имеет метку $y_i \\in \\{0,1\\}$  для предсказания $a(x_i)$ равна:\n",
    "$$L(y_i, b) =-[y_i == 1] \\log a(x_i)  - [y_i == 0] \\log(1 - a(x_i)) $$\n",
    "\n",
    "Где $[]$ означает индикатор $-$ он равен единице, если значение внутри него истинно, иначе он равен нулю. Тогда мат. ожидание при условии конкретного $x_i$  по определение мат. ожидания дискретной случайной величины:\n",
    "$$E(L | x_i) = -p(y_i = 1 |x_i ) \\log a(x_i)  - p(y_i = 0 | x_i) \\log( 1 - a(x_i))$$\n",
    "* Докажите, что значение $a(x_i)$, минимизирующее данное мат. ожидание, в точности равно $p(y_i = 1 |x_i)$, то есть равно вероятности положительного класса.\n",
    "\n",
    "Подсказка: возможно, придется воспользоваться, что  $p(y_i = 1 | x_i) + p(y_i = 0 | x_i) = 1$"
   ]
  },
  {
   "cell_type": "markdown",
   "metadata": {},
   "source": [
    "***Ваше решение здесь***\n",
    "$$\\frac{dE(L|x_i)}{da(x_i)} = \\frac{1}{\\ln2}(\\frac{-p(y_i = 1 |x_i)}{a(x_i)} + \\frac{p(y_i = 0 | x_i)}{1 - a(x_i)\n",
    "})$$\n",
    "\n",
    "$$\\frac{dE(L|x_i)}{da(x_i)} = \\frac{-p(y_i = 1 |x_i) + a(x_i)p(y_i = 1 |x_i) + a(x_i)p(y_i = 0 | x_i)}{\\ln 2 \\cdot a(x_i)(1 - a(x_i))}$$ \n",
    "\n",
    "Воспользуемся тем, что $p(y_i = 1 | x_i) + p(y_i = 0 | x_i) = 1$\n",
    "\n",
    "$$\\frac{dE(L|x_i)}{da(x_i)} = \\frac{a(x_i) - p(y_i = 1 |x_i)}{\\ln 2 \\cdot a(x_i)(1 - a(x_i))}$$\n",
    "\n",
    "$$ \\frac{dE(L|x_i)}{da(x_i)} = 0 \\iff \\begin{cases} a(x_i) \\neq 0\\\\ a(x_i) \\neq 1\\\\ a(x_i) = p(y_i = 1 |x_i) \\end{cases} $$\n",
    "\n",
    "Очевидно, $a(x_i) = p(y_i = 1 |x_i)$ - точка минимума мат. ожидания."
   ]
  },
  {
   "cell_type": "markdown",
   "metadata": {},
   "source": [
    "Задача 5.  Смысл регуляризации.\n",
    "\n",
    "Нужно ли в L1/L2 регуляризации использовать свободный член $w_0$ (который не умножается ни на какой признак)?\n",
    "\n",
    "Подсказка: подумайте, для чего мы вводим $w_0$"
   ]
  },
  {
   "cell_type": "markdown",
   "metadata": {},
   "source": [
    "***Ваше решение здесь***\n",
    "\n",
    "Мы вводим $w_{0}$ чтобы задать значение предсказания в случае, когда все признаки равны нулю или близки к нулю. Такой объект не обязательно имеет целевую переменную 0 (LinReg) или имеет равную вероятность принадлежности обоим классам (LogReg). Но также $w_0$ отвечает за удаление прямой(гиперплоскости) от начала координат и если не регуляризовывать его при условии регуляризации всех остальных, то он получится в разы больше остальных и, скорее всего, разделяющая прямая (гиперплоскость) будет неадекватной. Да, нужно."
   ]
  },
  {
   "cell_type": "markdown",
   "metadata": {},
   "source": [
    "#  Реализация линейной модели (4 балла)"
   ]
  },
  {
   "cell_type": "markdown",
   "metadata": {},
   "source": [
    "## Зачем нужны батчи?\n"
   ]
  },
  {
   "cell_type": "markdown",
   "metadata": {},
   "source": [
    "Как Вы могли заметить из теоретического введения, что в случае SGD, что в случа mini-batch GD,  на каждой итерации обновление весов  происходит только по небольшой части данных (1 пример в случае SGD, batch примеров в случае mini-batch). То есть для каждой итерации нам *** не нужна вся выборка***. Мы можем просто итерироваться по выборке, беря батч нужного размера (далее 1 объект тоже будем называть батчом).\n",
    "\n",
    "Легко заметить, что в этом случае нам не нужно загружать все данные в оперативную память, достаточно просто считать батч с диска, обновить веса, считать диска другой батч и так далее. В целях упрощения домашней работы, прямо с диска  мы считывать не будем, будем работать с обычными numpy array. \n",
    "\n",
    "\n",
    "\n"
   ]
  },
  {
   "cell_type": "markdown",
   "metadata": {},
   "source": [
    "## Немножко про генераторы в Python\n",
    "\n"
   ]
  },
  {
   "cell_type": "markdown",
   "metadata": {},
   "source": [
    "Идея считывания данных кусками удачно ложится на так называемые ***генераторы*** из языка Python. В данной работе Вам предлагается не только разобраться с логистической регрессией, но  и познакомиться с таким важным элементом языка.  При желании Вы можете убрать весь код, связанный с генераторами, и реализовать логистическую регрессию и без них, ***штрафоваться это никак не будет***. Главное, чтобы сама модель была реализована правильно, и все пункты были выполнены. \n",
    "\n",
    "Подробнее можно почитать вот тут https://anandology.com/python-practice-book/iterators.html\n"
   ]
  },
  {
   "cell_type": "markdown",
   "metadata": {},
   "source": [
    "К генератору стоит относиться просто как к функции, которая порождает не один объект, а целую последовательность объектов. Новое значение из последовательности генерируется с помощью ключевого слова ***yield***. Ниже Вы можете насладиться  генератором чисел Фибоначчи."
   ]
  },
  {
   "cell_type": "code",
   "execution_count": 3,
   "metadata": {},
   "outputs": [],
   "source": [
    "def fib(max_iter=4):\n",
    "    a, b = 0, 1\n",
    "    iter_num = 0\n",
    "    while 1:\n",
    "        yield a\n",
    "        a, b = b, a + b\n",
    "        iter_num += 1\n",
    "        if iter_num == max_iter:\n",
    "            break"
   ]
  },
  {
   "cell_type": "markdown",
   "metadata": {},
   "source": [
    "Вот так можно сгенерировать последовательность Фибоначчи. \n",
    "\n",
    "Заметьте, что к генераторам можно применять некоторые стандартные функции из Python, например enumerate."
   ]
  },
  {
   "cell_type": "code",
   "execution_count": 4,
   "metadata": {},
   "outputs": [
    {
     "name": "stdout",
     "output_type": "stream",
     "text": [
      "Fib num: 0 fib values: 0\n",
      "Fib num: 1 fib values: 1\n",
      "Fib num: 2 fib values: 1\n",
      "Fib num: 3 fib values: 2\n"
     ]
    }
   ],
   "source": [
    "new_generator = fib()\n",
    "for j, fib_val in enumerate(new_generator):\n",
    "    print (\"Fib num: \" + str(j) + \" fib values: \" + str(fib_val))"
   ]
  },
  {
   "cell_type": "markdown",
   "metadata": {},
   "source": [
    "Пересоздавая объект, можно сколько угодно раз генерировать заново последовательность. "
   ]
  },
  {
   "cell_type": "code",
   "execution_count": 5,
   "metadata": {},
   "outputs": [
    {
     "name": "stdout",
     "output_type": "stream",
     "text": [
      "Fib num: 0 fib values: 0\n",
      "Fib num: 1 fib values: 1\n",
      "Fib num: 2 fib values: 1\n",
      "Fib num: 3 fib values: 2\n",
      "Fib num: 0 fib values: 0\n",
      "Fib num: 1 fib values: 1\n",
      "Fib num: 2 fib values: 1\n",
      "Fib num: 3 fib values: 2\n",
      "Fib num: 0 fib values: 0\n",
      "Fib num: 1 fib values: 1\n",
      "Fib num: 2 fib values: 1\n",
      "Fib num: 3 fib values: 2\n"
     ]
    }
   ],
   "source": [
    "for i in range(0, 3):\n",
    "    new_generator = fib()\n",
    "    for j, fib_val in enumerate(new_generator):\n",
    "        print (\"Fib num: \" + str(j) + \" fib values: \" + str(fib_val))"
   ]
  },
  {
   "cell_type": "markdown",
   "metadata": {},
   "source": [
    "А вот так уже нельзя."
   ]
  },
  {
   "cell_type": "code",
   "execution_count": 6,
   "metadata": {},
   "outputs": [
    {
     "name": "stdout",
     "output_type": "stream",
     "text": [
      "Fib num: 0 fib values: 0\n",
      "Fib num: 1 fib values: 1\n",
      "Fib num: 2 fib values: 1\n",
      "Fib num: 3 fib values: 2\n"
     ]
    }
   ],
   "source": [
    "new_generator = fib()\n",
    "for i in range(0, 3):\n",
    "    for j, fib_val in enumerate(new_generator):\n",
    "        print (\"Fib num: \" + str(j) + \" fib values: \" + str(fib_val))"
   ]
  },
  {
   "cell_type": "markdown",
   "metadata": {},
   "source": [
    "Концепция крайне удобная для обучения  моделей $-$ у Вас есть некий источник данных, который Вам выдает их кусками, и Вам совершенно все равно откуда он их берет. Под ним может скрывать как массив в оперативной памяти, как файл на жестком диске, так и SQL база данных. Вы сами данные никуда не сохраняете, оперативную память экономите."
   ]
  },
  {
   "cell_type": "markdown",
   "metadata": {},
   "source": [
    "Если Вам понравилась идея с генераторами, то Вы можете реализовать свой, используя прототип batch_generator. В нем Вам нужно выдавать батчи признаков и ответов для каждой новой итерации спуска. Если не понравилась идея, то можете реализовывать SGD или mini-batch GD без генераторов."
   ]
  },
  {
   "cell_type": "code",
   "execution_count": 7,
   "metadata": {},
   "outputs": [],
   "source": [
    "def batch_generator(X, y, shuffle=True, batch_size=1):\n",
    "    \"\"\"\n",
    "    Гератор новых батчей для обучения\n",
    "    X          - матрица объекты-признаки\n",
    "    y_batch    - вектор ответов\n",
    "    shuffle    - нужно ли случайно перемешивать выборку\n",
    "    batch_size - размер батча ( 1 это SGD, > 1 mini-batch GD)\n",
    "    Генерирует подвыборку для итерации спуска (X_batch, y_batch)\n",
    "    \"\"\"\n",
    "    X = np.array(X)\n",
    "    y = np.array(y)\n",
    "    if not shuffle:\n",
    "        begin = 0\n",
    "        end = batch_size\n",
    "        while end < y.size:\n",
    "            yield (X[begin:end], y[begin:end])\n",
    "            begin += batch_size\n",
    "            end += batch_size\n",
    "        yield (X[begin::], y[begin::])\n",
    "    else:\n",
    "        ind = np.array(range(y.size))\n",
    "        while ind.size > batch_size:\n",
    "            batch_ind = np.random.choice(np.arange(ind.size),\n",
    "                                         size=batch_size,\n",
    "                                         replace=False)\n",
    "            batch = ind[batch_ind]\n",
    "            ind = np.delete(ind, batch_ind)\n",
    "            yield(X[batch], y[batch])\n",
    "        yield(X[ind], y[ind])"
   ]
  },
  {
   "cell_type": "code",
   "execution_count": 8,
   "metadata": {},
   "outputs": [],
   "source": [
    "#%%pycodestyle\n",
    "from sklearn.base import BaseEstimator, ClassifierMixin\n",
    "from math import exp, log2, log\n",
    "\n",
    "\n",
    "def sigmoid(x):\n",
    "    \"\"\"\n",
    "    Вычисляем значение сигмоида.\n",
    "    X - выход линейной модели\n",
    "    \"\"\"\n",
    "    try:\n",
    "        sigm_value_x = 1/(1 + exp(-x))\n",
    "        return sigm_value_x\n",
    "    except OverflowError:\n",
    "        return 0\n",
    "\n",
    "\n",
    "def mylog2(x):\n",
    "    if x == 0.0:\n",
    "        return -1.3131231e+70\n",
    "    return log2(x)\n",
    "\n",
    "\n",
    "class MySGDClassifier(BaseEstimator, ClassifierMixin):\n",
    "\n",
    "    def __init__(self, batch_generator,\n",
    "                 C=1, alpha=0.01, max_epoch=10, model_type='lin_reg',\n",
    "                 batch_size=1, border=0.5):\n",
    "        \"\"\"\n",
    "        batch_generator -- функция генератор, которой будем создавать батчи\n",
    "        C - коэф. регуляризации\n",
    "        alpha - скорость спуска\n",
    "        max_epoch - максимальное количество эпох\n",
    "        model_type - тим модели, lin_reg или log_reg\n",
    "        \"\"\"\n",
    "        self.C = C\n",
    "        self.alpha = alpha\n",
    "        self.max_epoch = max_epoch\n",
    "        self.batch_generator = batch_generator\n",
    "        self.errors_log = {'iter' : [], 'loss' : []}  \n",
    "        self.model_type = model_type\n",
    "        self.batch_size = batch_size\n",
    "        self.border = border\n",
    "        \n",
    "    def calc_loss(self, X_batch, y_batch):\n",
    "        \"\"\"\n",
    "        Считаем функцию потерь по батчу \n",
    "        X_batch - матрица объекты-признаки по батчу\n",
    "        y_batch - вектор ответов по батчу\n",
    "        Не забудте тип модели (линейная или логистическая регрессия)!\n",
    "        \"\"\"\n",
    "        X = np.array(X_batch)\n",
    "        add = np.array([1] * (X.shape[0]))\n",
    "        add = add.reshape(-1, 1)\n",
    "        X = np.hstack((add, X))\n",
    "        y = np.array(y_batch)\n",
    "        w = np.array(self.weights)\n",
    "        loss = X * w\n",
    "        loss = loss.sum(axis=1)\n",
    "        loss = loss.reshape(1, -1)\n",
    "        loss = loss.ravel()\n",
    "        if self.model_type == 'lin_reg':\n",
    "            loss = loss - y\n",
    "            loss = loss ** 2\n",
    "            loss = loss.sum()\n",
    "        elif self.model_type == 'log_reg':\n",
    "            loss = np.array(list(map(sigmoid, loss)))\n",
    "            one_loss = loss[np.where(y == 1)]\n",
    "            one_loss = np.array(list(map(mylog2, one_loss)))\n",
    "            one_loss_sum = np.sum(one_loss)\n",
    "            zero_loss = loss[np.where(y == 0)]\n",
    "            zero_loss = -zero_loss\n",
    "            zero_loss = zero_loss + 1\n",
    "            zero_loss = np.array(list(map(mylog2, zero_loss)))\n",
    "            zero_loss_sum = zero_loss.sum()\n",
    "            loss = zero_loss_sum + one_loss_sum\n",
    "            loss = -loss\n",
    "        loss /= y.size\n",
    "        reg = w ** 2\n",
    "        reg = reg.sum()\n",
    "        reg /= self.C\n",
    "        loss += reg\n",
    "        return loss\n",
    "    \n",
    "    def calc_loss_grad(self, X_batch, y_batch):\n",
    "        \"\"\"\n",
    "        Считаем  градиент функции потерь по батчу (то что Вы вывели в задании 1)\n",
    "        X_batch - матрица объекты-признаки по батчу\n",
    "        y_batch - вектор ответов по батчу\n",
    "        Не забудте тип модели (линейная или логистическая регрессия)!\n",
    "        \"\"\"\n",
    "        X = np.array(X_batch)\n",
    "        add = np.array([1] * (X.shape[0]))\n",
    "        add = add.reshape(-1, 1)\n",
    "        X = np.hstack((add, X))\n",
    "        y = np.array(y_batch).reshape(1, -1)\n",
    "        w = np.array(self.weights).reshape(1, -1)\n",
    "        a = X * w\n",
    "        a = a.sum(axis=1)\n",
    "        a = a.ravel()\n",
    "        if self.model_type == 'log_reg':\n",
    "            a = np.array(list(map(sigmoid, a))) \n",
    "        a = a - y\n",
    "        a = a.reshape(-1, 1)\n",
    "        loss_grad = X * a\n",
    "        loss_grad = loss_grad.mean(axis=0)\n",
    "        reg = w / self.C\n",
    "        if self.model_type == 'log_reg':\n",
    "            loss_grad = loss_grad / log(2)\n",
    "            reg = reg * 2\n",
    "        loss_grad = loss_grad + reg\n",
    "        return loss_grad\n",
    "    \n",
    "    def update_weights(self, new_grad):\n",
    "        \"\"\"\n",
    "        \n",
    "        Обновляем вектор весов\n",
    "        new_grad - градиент по батчу\n",
    "        \"\"\"\n",
    "        self.weights = self.weights - (new_grad * self.alpha)\n",
    "        \n",
    "    \n",
    "    def fit(self, X, y):\n",
    "        '''\n",
    "        Обучение модели\n",
    "        X - матрица объекты-признаки\n",
    "        y - вектор ответов\n",
    "        '''\n",
    "        # Нужно инициализровать случайно веса\n",
    "        X = np.array(X)\n",
    "        y = np.array(y)\n",
    "        np.random.seed(0)\n",
    "        self.weights = np.random.randint(1, 100, size=(X.shape[1] + 1))\n",
    "        self.weights = self.weights.astype(float)\n",
    "        for n in range(0, self.max_epoch):\n",
    "            new_epoch_generator = self.batch_generator(X, y, shuffle=True, batch_size = self.batch_size)\n",
    "            for batch_num, new_batch in enumerate(new_epoch_generator):\n",
    "                X_batch = new_batch[0]\n",
    "                y_batch = new_batch[1]\n",
    "                batch_grad = self.calc_loss_grad(X_batch, y_batch)\n",
    "                batch_loss = self.calc_loss(X_batch, y_batch)\n",
    "                self.update_weights(batch_grad)\n",
    "                # Подумайте в каком месте стоит посчитать ошибку для отладки модели\n",
    "                # До градиентного шага или после\n",
    "                self.errors_log['iter'].append(batch_num)\n",
    "                self.errors_log['loss'].append(batch_loss)\n",
    "        batch_loss = self.calc_loss(X, y)\n",
    "        self.errors_log['loss'].append(batch_loss)\n",
    "        return self\n",
    "        \n",
    "    def predict(self, X):\n",
    "        '''\n",
    "        Предсказание класса\n",
    "        X - матрица объекты-признаки\n",
    "        Не забудте тип модели (линейная или логистическая регрессия)!\n",
    "        '''\n",
    "        X1 = np.array(X)\n",
    "        add = np.array([1] * (X1.shape[0]))\n",
    "        add = add.reshape(-1, 1)\n",
    "        X1 = np.hstack((add, X1))\n",
    "        w = np.array(self.weights)\n",
    "        y_hat = X1 * w\n",
    "        y_hat = y_hat.sum(axis=1)\n",
    "        y_hat = y_hat.ravel()\n",
    "        if self.model_type == 'log_reg':\n",
    "            y_hat = np.array(list(map(sigmoid, y_hat)))\n",
    "            y_hat = (y_hat >= self.border).astype(int) \n",
    "        return y_hat"
   ]
  },
  {
   "cell_type": "markdown",
   "metadata": {},
   "source": [
    "Запустите обе регрессии на синтетических данных. \n",
    "\n",
    "\n",
    "Выведите полученные веса и нарисуйте разделяющую границу между классами (используйте только первых два веса для первых двух признаков X[:,0], X[:,1] для отображения в 2d пространство ).  "
   ]
  },
  {
   "cell_type": "code",
   "execution_count": 9,
   "metadata": {},
   "outputs": [],
   "source": [
    "def plot_decision_boundary(clf):\n",
    "    x = np.linspace(-50, 50)\n",
    "    y = ((clf.weights[0][1]) * x + clf.weights[0][0])/(-clf.weights[0][2])\n",
    "    line1, = plt.plot(x, y, '-g', label='mySGD')\n",
    "    return line1"
   ]
  },
  {
   "cell_type": "code",
   "execution_count": 10,
   "metadata": {},
   "outputs": [
    {
     "name": "stdout",
     "output_type": "stream",
     "text": [
      "[[-0.08130203  0.23897376 -0.13565709]]\n"
     ]
    },
    {
     "data": {
      "image/png": "[encoded data removed]",
      "text/plain": [
       "<Figure size 864x360 with 1 Axes>"
      ]
     },
     "metadata": {},
     "output_type": "display_data"
    }
   ],
   "source": [
    "from sklearn.linear_model import SGDClassifier\n",
    "\n",
    "np.random.seed(0)\n",
    "\n",
    "C1 = np.array([[0., -0.8], [1.5, 0.8]])\n",
    "C2 = np.array([[1., -0.7], [2., 0.7]])\n",
    "gauss1 = np.dot(np.random.randn(200, 2) + np.array([5, 3]), C1)\n",
    "gauss2 = np.dot(np.random.randn(200, 2) + np.array([1.5, 0]), C2)\n",
    "\n",
    "X = np.vstack([gauss1, gauss2])\n",
    "y = np.r_[np.ones(200), np.zeros(200)]\n",
    "\n",
    "my_clf = MySGDClassifier(batch_generator, model_type='log_reg', alpha=0.05)\n",
    "my_clf.fit(X, y)\n",
    "\n",
    "clf = SGDClassifier(loss='log').fit(X, y)\n",
    "x = np.linspace(-50, 50)\n",
    "k = ((clf.coef_[0][0]) * x)/(-clf.coef_[0][1])\n",
    "line2, = plt.plot(x, k, '-r', label='sklearn')\n",
    "\n",
    "line1 = plot_decision_boundary(my_clf)\n",
    "print(my_clf.weights)\n",
    "\n",
    "plt.legend(handles=[line1, line2])\n",
    "plt.ylim(-10, 10)\n",
    "plt.xlim(-8, 10)\n",
    "plt.scatter(X[:, 0], X[:, 1], c=y)\n",
    "plt.show()"
   ]
  },
  {
   "cell_type": "code",
   "execution_count": 11,
   "metadata": {},
   "outputs": [
    {
     "name": "stdout",
     "output_type": "stream",
     "text": [
      "[ 0.14354486 -0.17043888]\n",
      "[[ 0.01608667  0.12142962 -0.1326801 ]]\n"
     ]
    },
    {
     "data": {
      "image/png": "[encoded data removed]",
      "text/plain": [
       "<Figure size 864x360 with 1 Axes>"
      ]
     },
     "metadata": {},
     "output_type": "display_data"
    }
   ],
   "source": [
    "from sklearn.linear_model import LinearRegression\n",
    "\n",
    "np.random.seed(0)\n",
    "\n",
    "C1 = np.array([[0., -0.8], [1.5, 0.8]])\n",
    "C2 = np.array([[1., -0.7], [2., 0.7]])\n",
    "gauss1 = np.dot(np.random.randn(200, 2) + np.array([5, 3]), C1)\n",
    "gauss2 = np.dot(np.random.randn(200, 2) + np.array([1.5, 0]), C2)\n",
    "\n",
    "X = np.vstack([gauss1, gauss2])\n",
    "y = np.r_[np.ones(200), np.zeros(200)]\n",
    "\n",
    "my_clf = MySGDClassifier(batch_generator, model_type='lin_reg')\n",
    "my_clf.fit(X, y)\n",
    "\n",
    "clf = LinearRegression().fit(X, y)\n",
    "\n",
    "print(clf.coef_)\n",
    "x = np.linspace(-50, 50)\n",
    "k = ((clf.coef_[0]) * x)/(-clf.coef_[1])\n",
    "line2, = plt.plot(x, k, '-r', label='sklearn')\n",
    "\n",
    "line1 = plot_decision_boundary(my_clf)\n",
    "print(my_clf.weights)\n",
    "\n",
    "plt.legend(handles=[line1, line2])\n",
    "plt.ylim(-10, 10)\n",
    "plt.xlim(-8, 10)\n",
    "plt.scatter(X[:, 0], X[:, 1], c=y)\n",
    "plt.show()"
   ]
  },
  {
   "cell_type": "markdown",
   "metadata": {},
   "source": [
    "Далее будем анализировать Ваш алгоритм. \n",
    "Для этих заданий используйте датасет ниже."
   ]
  },
  {
   "cell_type": "code",
   "execution_count": 12,
   "metadata": {},
   "outputs": [],
   "source": [
    "from sklearn.datasets import make_classification"
   ]
  },
  {
   "cell_type": "code",
   "execution_count": 13,
   "metadata": {},
   "outputs": [],
   "source": [
    "X, y = make_classification(n_samples=10000, n_features=10, \n",
    "                           n_informative=4, n_redundant=0, \n",
    "                           random_state=123, class_sep=1.0,   \n",
    "                           n_clusters_per_class=1)   "
   ]
  },
  {
   "cell_type": "markdown",
   "metadata": {},
   "source": [
    "Покажите сходимости обеих регрессией на этом датасете: изобразите график  функции потерь, усредненной по $N$ шагам градиентого спуска, для разных `alpha` (размеров шага). Разные `alpha` расположите на одном графике. \n",
    "\n",
    "$N$ можно брать 10, 50, 100 и т.д. "
   ]
  },
  {
   "cell_type": "code",
   "execution_count": 14,
   "metadata": {},
   "outputs": [
    {
     "data": {
      "image/png": "[encoded data removed]",
      "text/plain": [
       "<Figure size 864x360 with 1 Axes>"
      ]
     },
     "metadata": {},
     "output_type": "display_data"
    }
   ],
   "source": [
    "clf = MySGDClassifier(batch_generator, model_type='log_reg', batch_size=50)\n",
    "clf.fit(X, y)\n",
    "N_mas = [10, 50, 100, 500, 1000, 10000, 100000, 1000000]\n",
    "mas = []\n",
    "for i in N_mas:\n",
    "    mas.append(np.mean(clf.errors_log['loss'][:i]))\n",
    "line1, = plt.plot(N_mas, mas, label='0.01')\n",
    "\n",
    "clf = MySGDClassifier(batch_generator, model_type='log_reg', alpha=0.25, batch_size=50)\n",
    "clf.fit(X, y)\n",
    "N_mas = [10, 50, 100, 500, 1000, 10000, 100000, 1000000]\n",
    "mas = []\n",
    "for i in N_mas:\n",
    "    mas.append(np.mean(clf.errors_log['loss'][:i]))\n",
    "line2, = plt.plot(N_mas, mas, label='0.25')\n",
    "\n",
    "clf = MySGDClassifier(batch_generator, model_type='log_reg', alpha=0.5, batch_size=50)\n",
    "clf.fit(X, y)\n",
    "N_mas = [10, 50, 100, 500, 1000, 10000, 100000, 1000000]\n",
    "mas = []\n",
    "for i in N_mas:\n",
    "    mas.append(np.mean(clf.errors_log['loss'][:i]))\n",
    "line3, = plt.plot(N_mas, mas, label='0.5')\n",
    "\n",
    "clf = MySGDClassifier(batch_generator, model_type='log_reg', alpha=1.0, batch_size=50)\n",
    "clf.fit(X, y)\n",
    "N_mas = [10, 50, 100, 500, 1000, 10000, 100000, 1000000]\n",
    "mas = []\n",
    "for i in N_mas:\n",
    "    mas.append(np.mean(clf.errors_log['loss'][:i]))\n",
    "line4, = plt.plot(N_mas, mas, label='1.0')\n",
    "\n",
    "clf = MySGDClassifier(batch_generator, model_type='log_reg', alpha=0.15, batch_size=50)\n",
    "clf.fit(X, y)\n",
    "N_mas = [10, 50, 100, 500, 1000, 10000, 100000, 1000000]\n",
    "mas = []\n",
    "for i in N_mas:\n",
    "    mas.append(np.mean(clf.errors_log['loss'][:i]))\n",
    "line5, = plt.plot(N_mas, mas, label='0.15')\n",
    "\n",
    "clf = MySGDClassifier(batch_generator, model_type='log_reg', alpha=0.05, batch_size=50)\n",
    "clf.fit(X, y)\n",
    "N_mas = [10, 50, 100, 500, 1000, 10000, 100000, 1000000]\n",
    "mas = []\n",
    "for i in N_mas:\n",
    "    mas.append(np.mean(clf.errors_log['loss'][:i]))\n",
    "line6, = plt.plot(N_mas, mas, label='0.05')\n",
    "\n",
    "plt.xlim(0, 1000)\n",
    "\n",
    "plt.legend(handles=[line1, line2, line3, line4, line5, line6])  \n",
    "plt.show()"
   ]
  },
  {
   "cell_type": "code",
   "execution_count": 15,
   "metadata": {},
   "outputs": [
    {
     "data": {
      "image/png": "[encoded data removed]",
      "text/plain": [
       "<Figure size 864x360 with 1 Axes>"
      ]
     },
     "metadata": {},
     "output_type": "display_data"
    }
   ],
   "source": [
    "import warnings\n",
    "warnings.filterwarnings(\"ignore\")\n",
    "from tqdm import tqdm\n",
    "clf = MySGDClassifier(batch_generator, model_type='lin_reg', batch_size=50)\n",
    "clf.fit(X, y)\n",
    "N_mas = [10, 50, 100, 500, 1000, 10000]\n",
    "mas = []\n",
    "for i in N_mas:\n",
    "    mas.append(np.mean(clf.errors_log['loss'][:i]))\n",
    "line1, = plt.plot(N_mas, mas, label='0.01')\n",
    "clf = MySGDClassifier(batch_generator, model_type='lin_reg', alpha=0.25, batch_size=50)\n",
    "clf.fit(X, y)\n",
    "N_mas = [10, 50, 100, 500, 1000, 10000]\n",
    "mas = []\n",
    "for i in N_mas:\n",
    "    mas.append(np.mean(clf.errors_log['loss'][:i]))\n",
    "line2, = plt.plot(N_mas, mas, label='0.25') \n",
    "\n",
    "clf = MySGDClassifier(batch_generator, model_type='lin_reg', alpha=0.5, batch_size=50)\n",
    "clf.fit(X, y)\n",
    "N_mas = [10, 50, 100, 500, 1000, 10000]  \n",
    "mas = []\n",
    "for i in N_mas:\n",
    "    mas.append(np.mean(clf.errors_log['loss'][:i]))\n",
    "line3, = plt.plot(N_mas, mas, label='0.5')\n",
    "\n",
    "clf = MySGDClassifier(batch_generator, model_type='lin_reg', alpha=1.0, batch_size=50)\n",
    "clf.fit(X, y)\n",
    "N_mas = [10, 50, 100, 500, 1000, 10000]\n",
    "mas = []\n",
    "for i in N_mas:\n",
    "    mas.append(np.mean(clf.errors_log['loss'][:i]))\n",
    "line4, = plt.plot(N_mas, mas, label='1.0')\n",
    "\n",
    "clf = MySGDClassifier(batch_generator, model_type='lin_reg', alpha=0.15, batch_size=50)\n",
    "clf.fit(X, y)\n",
    "N_mas = [10, 50, 100, 500, 1000, 10000]\n",
    "mas = []\n",
    "for i in N_mas:\n",
    "    mas.append(np.mean(clf.errors_log['loss'][:i]))\n",
    "line5, = plt.plot(N_mas, mas, label='0.15')\n",
    "\n",
    "clf = MySGDClassifier(batch_generator, model_type='lin_reg', alpha=0.05, batch_size=50)\n",
    "clf.fit(X, y)\n",
    "N_mas = [10, 50, 100, 500, 1000, 10000]\n",
    "mas = []\n",
    "for i in N_mas:\n",
    "    mas.append(np.mean(clf.errors_log['loss'][:i]))\n",
    "line6, = plt.plot(N_mas, mas, label='0.05')\n",
    "\n",
    "plt.xlim(0, 1000)\n",
    "plt.ylim(0, 10000)\n",
    "\n",
    "plt.legend(handles=[line1, line2, line3, line4, line5, line6]) \n",
    "plt.show()"
   ]
  },
  {
   "cell_type": "markdown",
   "metadata": {},
   "source": [
    "Что Вы можете сказать про сходимость метода при различных `alpha`? Какое значение стоит выбирать для лучшей сходимости?\n",
    "Нужно смотреть и выбирать. Вообще можно проследить зависимость, что чем больше шагов мы можем себе позволить, тем меньше мы можем поставить `alpha`. Так же можно `alpha` каждые n шагов."
   ]
  },
  {
   "cell_type": "markdown",
   "metadata": {},
   "source": [
    "Изобразите график среднего значения весов для обеих регрессий в зависимости от коеф. регуляризации С из `np.logspace(3, -3, 10)` "
   ]
  },
  {
   "cell_type": "code",
   "execution_count": 16,
   "metadata": {},
   "outputs": [
    {
     "data": {
      "image/png": "[encoded data removed]",
      "text/plain": [
       "<Figure size 864x360 with 1 Axes>"
      ]
     },
     "metadata": {},
     "output_type": "display_data"
    }
   ],
   "source": [
    "x = np.logspace(3, -3, 10)\n",
    "p = []\n",
    "for i in x:\n",
    "    p.append(np.mean(MySGDClassifier(batch_generator,\n",
    "                                     model_type='log_reg',\n",
    "                                     C=i, batch_size=200).fit(X, y).weights))\n",
    "plt.plot(x, p)\n",
    "plt.xlim(0, 100) \n",
    "plt.ylim(0, 100) \n",
    "plt.show()"
   ]
  },
  {
   "cell_type": "code",
   "execution_count": 17,
   "metadata": {},
   "outputs": [
    {
     "data": {
      "image/png": "[encoded data removed]",
      "text/plain": [
       "<Figure size 864x360 with 1 Axes>"
      ]
     },
     "metadata": {},
     "output_type": "display_data"
    }
   ],
   "source": [
    "x = np.logspace(3, -3, 10)\n",
    "p = []\n",
    "for i in x:\n",
    "    p.append(np.mean(MySGDClassifier(batch_generator,\n",
    "                                     model_type='lin_reg',\n",
    "                                     C=i, batch_size=600).fit(X, y).weights))\n",
    "plt.plot(x, p)\n",
    "plt.xlim(0, 100) \n",
    "plt.ylim(0, 100) \n",
    "plt.show()"
   ]
  },
  {
   "cell_type": "markdown",
   "metadata": {},
   "source": [
    "Довольны ли Вы, насколько сильно уменьшились Ваши веса? "
   ]
  },
  {
   "cell_type": "markdown",
   "metadata": {},
   "source": [
    "# Боевое применение (4  балла)\n",
    "\n",
    "**Защита данной части возможна только при преодолении в проекте бейзлайна Handmade baseline.**"
   ]
  },
  {
   "cell_type": "markdown",
   "metadata": {},
   "source": [
    "Давайте применим модель на итоговом проекте! Датасет сделаем точно таким же образом, как было показано в project_overview.ipynb\n",
    "\n",
    "Применим обе регрессии, подберем для них параметры и сравним качество. Может быть Вы еще одновременно с решением домашней работы подрастете на лидерборде!"
   ]
  },
  {
   "cell_type": "code",
   "execution_count": 18,
   "metadata": {},
   "outputs": [
    {
     "name": "stdout",
     "output_type": "stream",
     "text": [
      "28026\n"
     ]
    }
   ],
   "source": [
    "doc_to_title = {}\n",
    "with open('docs_titles.tsv') as f:\n",
    "    for num_line, line in enumerate(f):\n",
    "        if num_line == 0:\n",
    "            continue\n",
    "        data = line.strip().split('\\t', 1)\n",
    "        doc_id = int(data[0])\n",
    "        if len(data) == 1:\n",
    "            title = ''\n",
    "        else:\n",
    "            title = data[1]\n",
    "        doc_to_title[doc_id] = title\n",
    "print (len(doc_to_title))\n"
   ]
  },
  {
   "cell_type": "code",
   "execution_count": 19,
   "metadata": {},
   "outputs": [],
   "source": [
    "import pandas as pd\n",
    "train_data = pd.read_csv('train_groups.csv')\n",
    "traingroups_titledata = {}\n",
    "for i in range(len(train_data)):\n",
    "    new_doc = train_data.iloc[i]\n",
    "    doc_group = new_doc['group_id']\n",
    "    doc_id = new_doc['doc_id']\n",
    "    target = new_doc['target']\n",
    "    title = doc_to_title[doc_id]\n",
    "    if doc_group not in traingroups_titledata:\n",
    "        traingroups_titledata[doc_group] = []\n",
    "    traingroups_titledata[doc_group].append((doc_id, title, target))"
   ]
  },
  {
   "cell_type": "code",
   "execution_count": 20,
   "metadata": {},
   "outputs": [
    {
     "name": "stdout",
     "output_type": "stream",
     "text": [
      "(11690, 15) (11690,) (11690,)\n"
     ]
    }
   ],
   "source": [
    "import numpy as np\n",
    "y_train = []\n",
    "X_train = []\n",
    "groups_train = []\n",
    "for new_group in traingroups_titledata:\n",
    "    docs = traingroups_titledata[new_group]\n",
    "    for k, (doc_id, title, target_id) in enumerate(docs):\n",
    "        y_train.append(target_id)\n",
    "        groups_train.append(new_group)\n",
    "        all_dist = []\n",
    "        words = set(title.strip().split())\n",
    "        for j in range(0, len(docs)):\n",
    "            if k == j:\n",
    "                continue\n",
    "            doc_id_j, title_j, target_j = docs[j]\n",
    "            words_j = set(title_j.strip().split())\n",
    "            all_dist.append(len(words.intersection(words_j)))\n",
    "        X_train.append(sorted(all_dist, reverse=True)[0:15]    )\n",
    "X_train = np.array(X_train)\n",
    "y_train = np.array(y_train)\n",
    "groups_train = np.array(groups_train)\n",
    "print (X_train.shape, y_train.shape, groups_train.shape)"
   ]
  },
  {
   "cell_type": "markdown",
   "metadata": {},
   "source": [
    "Подберите размер батча для обучения. Линейная модель не должна учиться дольше нескольких минут. \n",
    "\n",
    "Не забывайте использовать скейлер!"
   ]
  },
  {
   "cell_type": "code",
   "execution_count": 22,
   "metadata": {},
   "outputs": [],
   "source": [
    "from sklearn.metrics import f1_score\n",
    "from sklearn.linear_model import LinearRegression\n",
    "from sklearn.preprocessing import StandardScaler"
   ]
  },
  {
   "cell_type": "code",
   "execution_count": 23,
   "metadata": {},
   "outputs": [
    {
     "name": "stdout",
     "output_type": "stream",
     "text": [
      "(11690, 15)\n"
     ]
    }
   ],
   "source": [
    "st = StandardScaler()\n",
    "X = st.fit_transform(X_train, y_train)\n",
    "print(X.shape)"
   ]
  },
  {
   "cell_type": "code",
   "execution_count": 25,
   "metadata": {},
   "outputs": [
    {
     "data": {
      "image/png": "[encoded data removed]",
      "text/plain": [
       "<Figure size 864x360 with 1 Axes>"
      ]
     },
     "metadata": {},
     "output_type": "display_data"
    }
   ],
   "source": [
    "mas = [10, 50, 100, 200, 300, 500, 800, 1000]\n",
    "mas1 = []\n",
    "mas2 = []\n",
    "for i in mas:\n",
    "    my_clf = MySGDClassifier(batch_generator,\n",
    "                             model_type='log_reg',\n",
    "                             batch_size=i).fit(X, y_train)\n",
    "    mas1.append(my_clf.errors_log['loss'][-1])\n",
    "    my_clf = MySGDClassifier(batch_generator,\n",
    "                             model_type='lin_reg',\n",
    "                             batch_size=i).fit(X, y_train)\n",
    "    mas2.append(my_clf.errors_log['loss'][-1])\n",
    "l1, = plt.plot(mas, mas1, label='log_reg')\n",
    "l2, = plt.plot(mas, mas2, label='lin_reg')\n",
    "plt.legend(handles=[l1, l2])\n",
    "plt.xlim(0, 1000)\n",
    "plt.ylim(0, 10)\n",
    "plt.show()"
   ]
  },
  {
   "cell_type": "markdown",
   "metadata": {},
   "source": [
    "Разбейте данные на обучение и валидацию. Подберите параметры C, alpha, max_epoch, model_type на валидации (Вы же помните, как правильно в этой задаче делать валидацию?)"
   ]
  },
  {
   "cell_type": "code",
   "execution_count": null,
   "metadata": {},
   "outputs": [],
   "source": [
    "from sklearn.model_selection import KFold,TimeSeriesSplit\n",
    "from sklearn.metrics import roc_auc_score\n",
    "from xgboost import plot_importance\n",
    "from sklearn.metrics import make_scorer\n",
    "from sklearn.metrics import f1_score\n",
    "from hyperopt import hp\n",
    "from sklearn.model_selection import StratifiedKFold\n",
    "import catboost\n",
    "import gc\n",
    "\n",
    "import time\n",
    "def objective(space, sid):\n",
    "    time1 = time.time()\n",
    "\n",
    "    params = dict()\n",
    "    params['n_estimators'] = space['n_estimators']\n",
    "    params['learning_rate'] = space['learning_rate']\n",
    "    params['depth'] = int(space['depth'])\n",
    "    params['l2_leaf_reg'] = space['l2_leaf_reg']\n",
    "    params['border_count'] = int(space['border_count'])\n",
    "    #params['max_leaves'] = int(space['max_leaves'])\n",
    "    print(\"\\n############## New Run ################\")\n",
    "    print(f\"params = {params}\")\n",
    "    FOLDS = 5\n",
    "    count=1\n",
    "    skf = StratifiedKFold(n_splits=FOLDS, shuffle=True, random_state=sid)\n",
    "\n",
    "    score_mean = 0\n",
    "    for tr_idx, val_idx in skf.split(X_train, y_train):\n",
    "        clf = catboost.CatBoostClassifier(\n",
    "            verbose=700,\n",
    "            random_seed=4,\n",
    "            loss_function='MultiClass',\n",
    "            auto_class_weights = 'Balanced',\n",
    "            **params\n",
    "        )\n",
    "\n",
    "        X_tr, X_vl = X_train.iloc[tr_idx, :], X_train.iloc[val_idx, :]\n",
    "        y_tr, y_vl = y_train.iloc[tr_idx], y_train.iloc[val_idx]\n",
    "        print(X_tr.shape)\n",
    "        clf.fit(X_tr, y_tr, cat_features = X_train.select_dtypes(include='category').columns)\n",
    "        #y_pred_train = clf.predict_proba(X_vl)[:,1]\n",
    "        y_preds = clf.predict(X_vl)\n",
    "        #print(y_pred_train)\n",
    "        score = f1_score(y_vl, y_preds, average='macro')\n",
    "        # plt.show()\n",
    "        score_mean += score\n",
    "        print(f'{count} CV - score: {round(score, 4)}')\n",
    "        count += 1\n",
    "    time2 = time.time() - time1\n",
    "    print(f\"Total Time Run: {round(time2 / 60,2)}\")\n",
    "    gc.collect()\n",
    "    print(f'Mean macro f1: {score_mean / FOLDS}')\n",
    "    del X_tr, X_vl, y_tr, y_vl, clf, score\n",
    "    return -(score_mean / FOLDS)\n",
    "\n",
    "\n",
    "space = {\n",
    "        'n_estimators': hp.choice('n_estimators', [800, 1100, 1400, 1600, 950, 1250,]),\n",
    "        'depth': hp.quniform(\"depth\", 4, 12, 1),\n",
    "        'border_count': hp.uniform ('border_count', 32, 255),\n",
    "        'learning_rate': hp.uniform('learning_rate', 0.05, 0.2),\n",
    "        'l2_leaf_reg': hp.uniform('l2_leaf_reg', 3, 8)\n",
    "}\n",
    "\n"
   ]
  },
  {
   "cell_type": "code",
   "execution_count": 63,
   "metadata": {},
   "outputs": [],
   "source": [
    "import time\n",
    "from sklearn.model_selection import KFold,TimeSeriesSplit\n",
    "from sklearn.metrics import f1_score\n",
    "from hyperopt import hp\n",
    "from sklearn.model_selection import KFold\n",
    "\n",
    "kf = KFold(n_splits=4, shuffle=True)\n",
    "def objective(space):\n",
    "    time1 = time.time()\n",
    "\n",
    "    params = dict()\n",
    "    params['C'] = space['C']\n",
    "    params['alpha'] = space['alpha']\n",
    "    params['max_epoch'] = int(space['epochs'])\n",
    "    params['model_type'] = space['model_type']\n",
    "    params['border'] = space['border']\n",
    "    params['batch_size'] = space['batch_size']\n",
    "    print(\"\\n############## New Run ################\")\n",
    "    print(f\"params = {params}\")\n",
    "    FOLDS = 4\n",
    "    count=1\n",
    "\n",
    "    score_mean = 0\n",
    "    clf = MySGDClassifier(batch_generator,\n",
    "                          **params)\n",
    "    sp = kf.split(X)\n",
    "    scores = []\n",
    "    for train_ind, test_ind in sp:\n",
    "        clf.fit(X[train_ind], y_train[train_ind])\n",
    "        scores.append(f1_score(y_train[test_ind],\n",
    "                               clf.predict(X[test_ind]) if clf.model_type=='log_reg' else (clf.predict(X[test_ind]) >= 0.5)\n",
    "                                       .astype(int)))\n",
    "    score = np.mean(np.array(scores))\n",
    "    time2 = time.time() - time1\n",
    "    print(f\"Total Time Run: {round(time2 / 60,2)}\")\n",
    "    #gc.collect()\n",
    "    print(f'Mean macro f1: {score}')\n",
    "    return -score\n",
    "\n",
    "space = {\n",
    "        'C': hp.uniform(\"C\", 0.01, 5),\n",
    "        'alpha': hp.uniform(\"alpha\", 0.03, 0.11),\n",
    "        'epochs': hp.choice('epochs', [6, 10, 20, 30, 40, 80,]),\n",
    "        'model_type': hp.choice('model_type', ['log_reg']),\n",
    "        'border': hp.uniform(\"border\",0.4, 0.6),\n",
    "        'batch_size': hp.choice(\"batch_size\", [60, 70, 80, 90, 100])\n",
    "}\n"
   ]
  },
  {
   "cell_type": "code",
   "execution_count": 64,
   "metadata": {},
   "outputs": [
    {
     "name": "stdout",
     "output_type": "stream",
     "text": [
      "                                                       \n",
      "############## New Run ################\n",
      "params = {'C': 1.5237936997634385, 'alpha': 0.06793258328915293, 'max_epoch': 40, 'model_type': 'log_reg', 'border': 0.5421843441731071, 'batch_size': 80}\n",
      "Total Time Run: 0.11                                   \n",
      "Mean macro f1: 0.5878067786004241                      \n",
      "                                                                                  \n",
      "############## New Run ################\n",
      "params = {'C': 1.7587070497281498, 'alpha': 0.034808159975115285, 'max_epoch': 80, 'model_type': 'log_reg', 'border': 0.4062528879281063, 'batch_size': 70}\n",
      "Total Time Run: 0.25                                                              \n",
      "Mean macro f1: 0.6054998319799235                                                 \n",
      "                                                                                  \n",
      "############## New Run ################\n",
      "params = {'C': 2.6584024877878782, 'alpha': 0.03290527532611349, 'max_epoch': 80, 'model_type': 'log_reg', 'border': 0.5693785108176981, 'batch_size': 90}\n",
      "Total Time Run: 0.26                                                              \n",
      "Mean macro f1: 0.5666106748674704                                                 \n",
      "                                                                                  \n",
      "############## New Run ################\n",
      "params = {'C': 4.786587974147454, 'alpha': 0.036578008280142994, 'max_epoch': 10, 'model_type': 'log_reg', 'border': 0.508863218796546, 'batch_size': 60}\n",
      "Total Time Run: 0.04                                                              \n",
      "Mean macro f1: 0.5898286379030636                                                 \n",
      "                                                                                  \n",
      "############## New Run ################\n",
      "params = {'C': 4.385813928202648, 'alpha': 0.07143940048561676, 'max_epoch': 20, 'model_type': 'log_reg', 'border': 0.5534752963197783, 'batch_size': 100}\n",
      "Total Time Run: 0.06                                                              \n",
      "Mean macro f1: 0.5667788791917232                                                 \n",
      "                                                                                  \n",
      "############## New Run ################\n",
      "params = {'C': 0.19860930077971767, 'alpha': 0.07359366466232184, 'max_epoch': 40, 'model_type': 'log_reg', 'border': 0.5697919702026087, 'batch_size': 60}\n",
      "Total Time Run: 0.16                                                              \n",
      "Mean macro f1: 0.34021788970241484                                                \n",
      "                                                                                  \n",
      "############## New Run ################\n",
      "params = {'C': 1.5521425430072813, 'alpha': 0.051415381261968846, 'max_epoch': 20, 'model_type': 'log_reg', 'border': 0.48518444885000944, 'batch_size': 100}\n",
      "Total Time Run: 0.05                                                              \n",
      "Mean macro f1: 0.6151241038092572                                                 \n",
      "                                                                                  \n",
      "############## New Run ################\n",
      "params = {'C': 0.35664041407201447, 'alpha': 0.059475906137228786, 'max_epoch': 6, 'model_type': 'log_reg', 'border': 0.5070845754337608, 'batch_size': 100}\n",
      "Total Time Run: 0.02                                                              \n",
      "Mean macro f1: 0.6113553287877628                                                 \n",
      "                                                                                  \n",
      "############## New Run ################\n",
      "params = {'C': 2.956676845858193, 'alpha': 0.06714118796721891, 'max_epoch': 80, 'model_type': 'log_reg', 'border': 0.5487824865981327, 'batch_size': 70}\n",
      "Total Time Run: 0.25                                                              \n",
      "Mean macro f1: 0.5794150063994119                                                 \n",
      "                                                                                  \n",
      "############## New Run ################\n",
      "params = {'C': 0.5031754455545111, 'alpha': 0.10279380002380324, 'max_epoch': 30, 'model_type': 'log_reg', 'border': 0.4160971404750843, 'batch_size': 100}\n",
      "Total Time Run: 0.08                                                              \n",
      "Mean macro f1: 0.5274758475304505                                                 \n",
      "                                                                                   \n",
      "############## New Run ################\n",
      "params = {'C': 1.7069332522386051, 'alpha': 0.08635410139738132, 'max_epoch': 20, 'model_type': 'log_reg', 'border': 0.40803609533394153, 'batch_size': 60}\n",
      "Total Time Run: 0.07                                                               \n",
      "Mean macro f1: 0.6021584067258774                                                  \n",
      "                                                                                   \n",
      "############## New Run ################\n",
      "params = {'C': 1.1887043231208207, 'alpha': 0.04117487119887655, 'max_epoch': 30, 'model_type': 'log_reg', 'border': 0.44518151404945294, 'batch_size': 100}\n",
      "Total Time Run: 0.08                                                               \n",
      "Mean macro f1: 0.6101828082546256                                                  \n",
      "                                                                                   \n",
      "############## New Run ################\n",
      "params = {'C': 0.697956252360683, 'alpha': 0.10999651328953305, 'max_epoch': 40, 'model_type': 'log_reg', 'border': 0.42592778177278806, 'batch_size': 60}\n",
      "Total Time Run: 0.14                                                               \n",
      "Mean macro f1: 0.5625090850384908                                                  \n",
      "                                                                                   \n",
      "############## New Run ################\n",
      "params = {'C': 0.2977323857052952, 'alpha': 0.04137233718326303, 'max_epoch': 40, 'model_type': 'log_reg', 'border': 0.565313871762313, 'batch_size': 100}\n",
      "Total Time Run: 0.1                                                                \n",
      "Mean macro f1: 0.5471079011240636                                                  \n",
      "                                                                                   \n",
      "############## New Run ################\n",
      "params = {'C': 1.8123383375326567, 'alpha': 0.033377586759348286, 'max_epoch': 80, 'model_type': 'log_reg', 'border': 0.4032973942397605, 'batch_size': 80}\n",
      "Total Time Run: 0.23                                                               \n",
      "Mean macro f1: 0.6021228582794342                                                  \n",
      "                                                                                   \n",
      "############## New Run ################\n",
      "params = {'C': 3.714253479185529, 'alpha': 0.05239218272320112, 'max_epoch': 20, 'model_type': 'log_reg', 'border': 0.49007362387619147, 'batch_size': 90}\n",
      "Total Time Run: 0.06                                                               \n",
      "Mean macro f1: 0.6016224521539488                                                  \n",
      "                                                                                   \n",
      "############## New Run ################\n",
      "params = {'C': 3.3836255747277284, 'alpha': 0.06647694806096796, 'max_epoch': 80, 'model_type': 'log_reg', 'border': 0.4345055182388446, 'batch_size': 70}\n",
      "Total Time Run: 0.29                                                               \n",
      "Mean macro f1: 0.6183295707130168                                                  \n",
      "                                                                                   \n",
      "############## New Run ################\n",
      "params = {'C': 2.5688980871136047, 'alpha': 0.04058926380237836, 'max_epoch': 30, 'model_type': 'log_reg', 'border': 0.4489973844462013, 'batch_size': 90}\n",
      "Total Time Run: 0.08                                                               \n",
      "Mean macro f1: 0.6193994030425682                                                  \n",
      "                                                                                   \n",
      "############## New Run ################\n",
      "params = {'C': 1.0834671610804838, 'alpha': 0.05190851019263648, 'max_epoch': 80, 'model_type': 'log_reg', 'border': 0.4652591273855797, 'batch_size': 70}\n"
     ]
    },
    {
     "name": "stdout",
     "output_type": "stream",
     "text": [
      "Total Time Run: 0.28                                                               \n",
      "Mean macro f1: 0.6152245504785687                                                  \n",
      "                                                                                   \n",
      "############## New Run ################\n",
      "params = {'C': 2.6424438086131286, 'alpha': 0.06308804442860277, 'max_epoch': 80, 'model_type': 'log_reg', 'border': 0.49687075723063995, 'batch_size': 100}\n",
      "Total Time Run: 0.2                                                                \n",
      "Mean macro f1: 0.6065518700786017                                                  \n",
      "                                                                                   \n",
      "############## New Run ################\n",
      "params = {'C': 3.792806018297542, 'alpha': 0.0825086943852379, 'max_epoch': 30, 'model_type': 'log_reg', 'border': 0.44668395995170396, 'batch_size': 90}\n",
      "Total Time Run: 0.08                                                               \n",
      "Mean macro f1: 0.6169497856281722                                                  \n",
      "                                                                                   \n",
      "############## New Run ################\n",
      "params = {'C': 3.2366313630032786, 'alpha': 0.09497147939954947, 'max_epoch': 10, 'model_type': 'log_reg', 'border': 0.43775446493494397, 'batch_size': 90}\n",
      "Total Time Run: 0.03                                                               \n",
      "Mean macro f1: 0.6167832281066347                                                  \n",
      "                                                                                   \n",
      "############## New Run ################\n",
      "params = {'C': 2.169399667872627, 'alpha': 0.0841808844814769, 'max_epoch': 6, 'model_type': 'log_reg', 'border': 0.46350987468383464, 'batch_size': 70}\n",
      "Total Time Run: 0.02                                                               \n",
      "Mean macro f1: 0.6110043428945087                                                  \n",
      "                                                                                   \n",
      "############## New Run ################\n",
      "params = {'C': 3.6439830923204335, 'alpha': 0.04572002296354896, 'max_epoch': 30, 'model_type': 'log_reg', 'border': 0.4689118226636511, 'batch_size': 90}\n",
      "Total Time Run: 0.08                                                               \n",
      "Mean macro f1: 0.6117954938599626                                                  \n",
      "                                                                                   \n",
      "############## New Run ################\n",
      "params = {'C': 4.283272159668911, 'alpha': 0.05818499059534847, 'max_epoch': 30, 'model_type': 'log_reg', 'border': 0.5277293938596327, 'batch_size': 70}\n",
      "Total Time Run: 0.09                                                               \n",
      "Mean macro f1: 0.5815155071318755                                                  \n",
      "                                                                                   \n",
      "############## New Run ################\n",
      "params = {'C': 2.338969096082972, 'alpha': 0.07675738081894112, 'max_epoch': 10, 'model_type': 'log_reg', 'border': 0.4312723536688714, 'batch_size': 90}\n",
      "Total Time Run: 0.03                                                               \n",
      "Mean macro f1: 0.6132875899068232                                                  \n",
      "                                                                                   \n",
      "############## New Run ################\n",
      "params = {'C': 3.292523529416771, 'alpha': 0.0952477560510002, 'max_epoch': 30, 'model_type': 'log_reg', 'border': 0.5963099603725847, 'batch_size': 70}\n",
      "Total Time Run: 0.09                                                               \n",
      "Mean macro f1: 0.5332268760543107                                                  \n",
      "                                                                                   \n",
      "############## New Run ################\n",
      "params = {'C': 4.182369362030007, 'alpha': 0.047703357520667206, 'max_epoch': 6, 'model_type': 'log_reg', 'border': 0.45327015234684453, 'batch_size': 80}\n",
      "Total Time Run: 0.02                                                               \n",
      "Mean macro f1: 0.6143879642802008                                                  \n",
      "                                                                                   \n",
      "############## New Run ################\n",
      "params = {'C': 4.923861696736699, 'alpha': 0.06391049755683158, 'max_epoch': 80, 'model_type': 'log_reg', 'border': 0.47520534755356436, 'batch_size': 80}\n",
      "Total Time Run: 0.23                                                               \n",
      "Mean macro f1: 0.6081680825090081                                                  \n",
      "                                                                                   \n",
      "############## New Run ################\n",
      "params = {'C': 2.118546658348079, 'alpha': 0.07826280384561358, 'max_epoch': 30, 'model_type': 'log_reg', 'border': 0.4238748547589852, 'batch_size': 90}\n",
      "Total Time Run: 0.08                                                               \n",
      "Mean macro f1: 0.6119870255290586                                                  \n",
      "                                                                                   \n",
      "############## New Run ################\n",
      "params = {'C': 3.0196968866556664, 'alpha': 0.05697097545588968, 'max_epoch': 80, 'model_type': 'log_reg', 'border': 0.5304599367339992, 'batch_size': 70}\n",
      "Total Time Run: 0.25                                                               \n",
      "Mean macro f1: 0.5852796257330359                                                  \n",
      "                                                                                   \n",
      "############## New Run ################\n",
      "params = {'C': 2.718988147900569, 'alpha': 0.08991646382863774, 'max_epoch': 30, 'model_type': 'log_reg', 'border': 0.4006639687966437, 'batch_size': 70}\n",
      "Total Time Run: 0.1                                                                \n",
      "Mean macro f1: 0.5990041286339743                                                  \n",
      "                                                                                   \n",
      "############## New Run ################\n",
      "params = {'C': 3.2593134103514534, 'alpha': 0.041115204789869714, 'max_epoch': 10, 'model_type': 'log_reg', 'border': 0.4562201831993715, 'batch_size': 90}\n",
      "Total Time Run: 0.03                                                               \n",
      "Mean macro f1: 0.6166741169797546                                                  \n",
      "                                                                                   \n",
      "############## New Run ################\n",
      "params = {'C': 4.6306985077503455, 'alpha': 0.06731512622131222, 'max_epoch': 80, 'model_type': 'log_reg', 'border': 0.47909875400237517, 'batch_size': 80}\n",
      "Total Time Run: 0.23                                                               \n",
      "Mean macro f1: 0.6030503619672305                                                  \n",
      "                                                                                   \n",
      "############## New Run ################\n",
      "params = {'C': 4.103211958006814, 'alpha': 0.03577937316003924, 'max_epoch': 40, 'model_type': 'log_reg', 'border': 0.4160269552080195, 'batch_size': 70}\n",
      "Total Time Run: 0.12                                                               \n",
      "Mean macro f1: 0.6163234495969552                                                  \n",
      "                                                                                   \n",
      "############## New Run ################\n",
      "params = {'C': 3.5011836598119763, 'alpha': 0.07212615897698557, 'max_epoch': 6, 'model_type': 'log_reg', 'border': 0.4429900377899277, 'batch_size': 90}\n",
      "Total Time Run: 0.02                                                               \n",
      "Mean macro f1: 0.6171930799556283                                                  \n",
      "                                                                                   \n",
      "############## New Run ################\n",
      "params = {'C': 3.9863616407942906, 'alpha': 0.030277005386132302, 'max_epoch': 80, 'model_type': 'log_reg', 'border': 0.43468953544740024, 'batch_size': 60}\n",
      "Total Time Run: 0.28                                                               \n"
     ]
    },
    {
     "name": "stdout",
     "output_type": "stream",
     "text": [
      "Mean macro f1: 0.6169208433559095                                                  \n",
      "                                                                                   \n",
      "############## New Run ################\n",
      "params = {'C': 2.914549698100633, 'alpha': 0.10833852797971914, 'max_epoch': 20, 'model_type': 'log_reg', 'border': 0.5162500866460746, 'batch_size': 70}\n",
      "Total Time Run: 0.06                                                               \n",
      "Mean macro f1: 0.5867829447424787                                                  \n",
      "                                                                                   \n",
      "############## New Run ################\n",
      "params = {'C': 2.4015076853822737, 'alpha': 0.05552251921312126, 'max_epoch': 10, 'model_type': 'log_reg', 'border': 0.4569610801592169, 'batch_size': 90}\n",
      "Total Time Run: 0.03                                                               \n",
      "Mean macro f1: 0.6177026542440451                                                  \n",
      "                                                                                   \n",
      "############## New Run ################\n",
      "params = {'C': 1.9682488846193533, 'alpha': 0.046398581387397414, 'max_epoch': 30, 'model_type': 'log_reg', 'border': 0.41447467132128785, 'batch_size': 60}\n",
      "Total Time Run: 0.1                                                                \n",
      "Mean macro f1: 0.6094359872967551                                                  \n",
      "                                                                                   \n",
      "############## New Run ################\n",
      "params = {'C': 4.624497642548128, 'alpha': 0.07735248720799268, 'max_epoch': 40, 'model_type': 'log_reg', 'border': 0.5013391313895044, 'batch_size': 70}\n",
      "Total Time Run: 0.12                                                               \n",
      "Mean macro f1: 0.5862371942721111                                                  \n",
      "                                                                                   \n",
      "############## New Run ################\n",
      "params = {'C': 1.1405588031515057, 'alpha': 0.030784091301071202, 'max_epoch': 80, 'model_type': 'log_reg', 'border': 0.47788608159948404, 'batch_size': 80}\n",
      "Total Time Run: 0.23                                                               \n",
      "Mean macro f1: 0.6187279196563067                                                  \n",
      "                                                                                   \n",
      "############## New Run ################\n",
      "params = {'C': 1.3531439014609892, 'alpha': 0.030480871988924896, 'max_epoch': 20, 'model_type': 'log_reg', 'border': 0.5144298218350345, 'batch_size': 80}\n",
      "Total Time Run: 0.06                                                               \n",
      "Mean macro f1: 0.6063197444670965                                                  \n",
      "                                                                                   \n",
      "############## New Run ################\n",
      "params = {'C': 0.9092241215373038, 'alpha': 0.04144433063866842, 'max_epoch': 6, 'model_type': 'log_reg', 'border': 0.5871214594943983, 'batch_size': 80}\n",
      "Total Time Run: 0.02                                                               \n",
      "Mean macro f1: 0.5605574400285056                                                  \n",
      "                                                                                   \n",
      "############## New Run ################\n",
      "params = {'C': 0.060803637259802645, 'alpha': 0.03688574531920927, 'max_epoch': 30, 'model_type': 'log_reg', 'border': 0.4816136988589638, 'batch_size': 80}\n",
      "Total Time Run: 0.09                                                               \n",
      "Mean macro f1: 0.5044856447397387                                                  \n",
      "                                                                                   \n",
      "############## New Run ################\n",
      "params = {'C': 1.5614720663104333, 'alpha': 0.03866411531715485, 'max_epoch': 80, 'model_type': 'log_reg', 'border': 0.5344828531842815, 'batch_size': 80}\n",
      "Total Time Run: 0.23                                                               \n",
      "Mean macro f1: 0.5954058800614965                                                  \n",
      "                                                                                   \n",
      "############## New Run ################\n",
      "params = {'C': 0.575625310165264, 'alpha': 0.031727519719959005, 'max_epoch': 40, 'model_type': 'log_reg', 'border': 0.4913376026539961, 'batch_size': 80}\n",
      "Total Time Run: 0.12                                                               \n",
      "Mean macro f1: 0.617093485791866                                                   \n",
      "                                                                                   \n",
      "############## New Run ################\n",
      "params = {'C': 0.8204516142144, 'alpha': 0.04909446026546117, 'max_epoch': 80, 'model_type': 'log_reg', 'border': 0.5562402236079633, 'batch_size': 60}\n",
      "Total Time Run: 0.29                                                               \n",
      "Mean macro f1: 0.5757526803678433                                                  \n",
      "                                                                                   \n",
      "############## New Run ################\n",
      "params = {'C': 1.390990540536471, 'alpha': 0.04445410014902308, 'max_epoch': 20, 'model_type': 'log_reg', 'border': 0.471363708075967, 'batch_size': 100}\n",
      "Total Time Run: 0.05                                                               \n",
      "Mean macro f1: 0.6180148197715896                                                  \n",
      "                                                                                   \n",
      "############## New Run ################\n",
      "params = {'C': 1.8450985839131167, 'alpha': 0.05382356026681767, 'max_epoch': 30, 'model_type': 'log_reg', 'border': 0.5073938917262248, 'batch_size': 90}\n",
      "Total Time Run: 0.08                                                               \n",
      "Mean macro f1: 0.607610582939452                                                   \n",
      "                                                                                   \n",
      "############## New Run ################\n",
      "params = {'C': 1.0962648670225714, 'alpha': 0.06053408968642889, 'max_epoch': 10, 'model_type': 'log_reg', 'border': 0.5223095699607238, 'batch_size': 80}\n",
      "Total Time Run: 0.03                                                               \n",
      "Mean macro f1: 0.6007126370940916                                                  \n",
      "                                                                                   \n",
      "############## New Run ################\n",
      "params = {'C': 0.11787403420891374, 'alpha': 0.03355520463231517, 'max_epoch': 80, 'model_type': 'log_reg', 'border': 0.5430395468692957, 'batch_size': 100}\n",
      "Total Time Run: 0.21                                                               \n",
      "Mean macro f1: 0.4952964721756814                                                  \n",
      "                                                                                   \n",
      "############## New Run ################\n",
      "params = {'C': 0.4065678466645736, 'alpha': 0.049650408519390385, 'max_epoch': 6, 'model_type': 'log_reg', 'border': 0.48649622343887056, 'batch_size': 90}\n",
      "Total Time Run: 0.02                                                               \n",
      "Mean macro f1: 0.6151084070018312                                                  \n",
      "                                                                                   \n",
      "############## New Run ################\n",
      "params = {'C': 2.7079800929546165, 'alpha': 0.04308415832968735, 'max_epoch': 30, 'model_type': 'log_reg', 'border': 0.4986170292717623, 'batch_size': 60}\n",
      "Total Time Run: 0.11                                                               \n",
      "Mean macro f1: 0.6081269434091526                                                  \n",
      "                                                                                   \n",
      "############## New Run ################\n",
      "params = {'C': 1.61159197522477, 'alpha': 0.03851368133726971, 'max_epoch': 40, 'model_type': 'log_reg', 'border': 0.4238763755231961, 'batch_size': 80}\n",
      "Total Time Run: 0.11                                                               \n",
      "Mean macro f1: 0.6074648809862888                                                  \n"
     ]
    },
    {
     "name": "stdout",
     "output_type": "stream",
     "text": [
      "                                                                                   \n",
      "############## New Run ################\n",
      "params = {'C': 2.1840541387813857, 'alpha': 0.06943521679227174, 'max_epoch': 20, 'model_type': 'log_reg', 'border': 0.4493958868728932, 'batch_size': 90}\n",
      "Total Time Run: 0.05                                                               \n",
      "Mean macro f1: 0.6179121897929372                                                  \n",
      "                                                                                   \n",
      "############## New Run ################\n",
      "params = {'C': 2.544905588014789, 'alpha': 0.03432314189613602, 'max_epoch': 80, 'model_type': 'log_reg', 'border': 0.46082072495379933, 'batch_size': 100}\n",
      "Total Time Run: 0.21                                                               \n",
      "Mean macro f1: 0.6183102503121243                                                  \n",
      "                                                                                   \n",
      "############## New Run ################\n",
      "params = {'C': 3.0596038240678234, 'alpha': 0.061670002577208186, 'max_epoch': 30, 'model_type': 'log_reg', 'border': 0.40646820676622464, 'batch_size': 80}\n",
      "Total Time Run: 0.09                                                               \n",
      "Mean macro f1: 0.6113288681974167                                                  \n",
      "                                                                                   \n",
      "############## New Run ################\n",
      "params = {'C': 1.262065316500875, 'alpha': 0.09889806301286572, 'max_epoch': 10, 'model_type': 'log_reg', 'border': 0.44383485571158865, 'batch_size': 90}\n",
      "Total Time Run: 0.03                                                               \n",
      "Mean macro f1: 0.6080072466772124                                                  \n",
      "                                                                                   \n",
      "############## New Run ################\n",
      "params = {'C': 1.9264761625734792, 'alpha': 0.05092953368398962, 'max_epoch': 80, 'model_type': 'log_reg', 'border': 0.5787074091925067, 'batch_size': 60}\n",
      "Total Time Run: 0.29                                                               \n",
      "Mean macro f1: 0.5696749438222541                                                  \n",
      "                                                                                   \n",
      "############## New Run ################\n",
      "params = {'C': 0.95924610089355, 'alpha': 0.038971200390499554, 'max_epoch': 30, 'model_type': 'log_reg', 'border': 0.4681018403346618, 'batch_size': 90}\n",
      "Total Time Run: 0.08                                                               \n",
      "Mean macro f1: 0.6152409314580666                                                  \n",
      "                                                                                   \n",
      "############## New Run ################\n",
      "params = {'C': 0.6682451731611124, 'alpha': 0.08133673331709085, 'max_epoch': 6, 'model_type': 'log_reg', 'border': 0.4918948432814683, 'batch_size': 80}\n",
      "Total Time Run: 0.02                                                               \n",
      "Mean macro f1: 0.6179293968618241                                                  \n",
      "                                                                                   \n",
      "############## New Run ################\n",
      "params = {'C': 1.6955715344429803, 'alpha': 0.05445538557649205, 'max_epoch': 40, 'model_type': 'log_reg', 'border': 0.4737968259893741, 'batch_size': 100}\n",
      "Total Time Run: 0.1                                                                \n",
      "Mean macro f1: 0.6174680123914484                                                  \n",
      "                                                                                   \n",
      "############## New Run ################\n",
      "params = {'C': 2.2506626599652195, 'alpha': 0.06529100781979519, 'max_epoch': 80, 'model_type': 'log_reg', 'border': 0.43077250143090845, 'batch_size': 90}\n",
      "Total Time Run: 0.21                                                               \n",
      "Mean macro f1: 0.6117328779539289                                                  \n",
      "                                                                                   \n",
      "############## New Run ################\n",
      "params = {'C': 0.24264437417894946, 'alpha': 0.05869360144065644, 'max_epoch': 30, 'model_type': 'log_reg', 'border': 0.5036175757018835, 'batch_size': 80}\n",
      "Total Time Run: 0.09                                                               \n",
      "Mean macro f1: 0.618229022318934                                                   \n",
      "                                                                                   \n",
      "############## New Run ################\n",
      "params = {'C': 3.42359333229135, 'alpha': 0.10643409471445289, 'max_epoch': 80, 'model_type': 'log_reg', 'border': 0.4505306895438812, 'batch_size': 70}\n",
      "Total Time Run: 0.25                                                               \n",
      "Mean macro f1: 0.6174397344994542                                                  \n",
      "                                                                                   \n",
      "############## New Run ################\n",
      "params = {'C': 2.858440613452057, 'alpha': 0.07208684411098008, 'max_epoch': 80, 'model_type': 'log_reg', 'border': 0.4416926504452512, 'batch_size': 70}\n",
      "Total Time Run: 0.25                                                               \n",
      "Mean macro f1: 0.6195881937171612                                                  \n",
      "                                                                                   \n",
      "############## New Run ################\n",
      "params = {'C': 2.791469409150157, 'alpha': 0.0745076238582179, 'max_epoch': 80, 'model_type': 'log_reg', 'border': 0.412062001047954, 'batch_size': 70}\n",
      "Total Time Run: 0.25                                                               \n",
      "Mean macro f1: 0.6102435880140272                                                  \n",
      "                                                                                   \n",
      "############## New Run ################\n",
      "params = {'C': 3.5928290554654456, 'alpha': 0.08869325024758035, 'max_epoch': 80, 'model_type': 'log_reg', 'border': 0.46043295415519014, 'batch_size': 70}\n",
      "Total Time Run: 0.25                                                               \n",
      "Mean macro f1: 0.6150180249078805                                                  \n",
      "                                                                                   \n",
      "############## New Run ################\n",
      "params = {'C': 3.8256791300866477, 'alpha': 0.08085700317612468, 'max_epoch': 80, 'model_type': 'log_reg', 'border': 0.42253952843442544, 'batch_size': 70}\n",
      "Total Time Run: 0.25                                                               \n",
      "Mean macro f1: 0.6176893101279748                                                  \n",
      "                                                                                   \n",
      "############## New Run ################\n",
      "params = {'C': 2.52837569765459, 'alpha': 0.08532994225654635, 'max_epoch': 80, 'model_type': 'log_reg', 'border': 0.43924148458229545, 'batch_size': 70}\n",
      "Total Time Run: 0.25                                                               \n",
      "Mean macro f1: 0.6159656012028585                                                  \n",
      "                                                                                   \n",
      "############## New Run ################\n",
      "params = {'C': 3.0973185545760744, 'alpha': 0.07426823516720318, 'max_epoch': 80, 'model_type': 'log_reg', 'border': 0.4770150678092792, 'batch_size': 90}\n",
      "Total Time Run: 0.21                                                               \n",
      "Mean macro f1: 0.6108074999257785                                                  \n",
      "                                                                                   \n",
      "############## New Run ################\n",
      "params = {'C': 2.361611095132095, 'alpha': 0.070223624920247, 'max_epoch': 20, 'model_type': 'log_reg', 'border': 0.4816098340832565, 'batch_size': 70}\n",
      "Total Time Run: 0.06                                                               \n",
      "Mean macro f1: 0.6146776909831452                                                  \n",
      "                                                                                   \n",
      "############## New Run ################\n"
     ]
    },
    {
     "name": "stdout",
     "output_type": "stream",
     "text": [
      "params = {'C': 2.8160751192833193, 'alpha': 0.0932112834942277, 'max_epoch': 30, 'model_type': 'log_reg', 'border': 0.4006240235424842, 'batch_size': 60}\n",
      "Total Time Run: 0.1                                                                \n",
      "Mean macro f1: 0.6077846500929205                                                  \n",
      "                                                                                   \n",
      "############## New Run ################\n",
      "params = {'C': 2.069575179563663, 'alpha': 0.06882601376973034, 'max_epoch': 10, 'model_type': 'log_reg', 'border': 0.46468554509690624, 'batch_size': 80}\n",
      "Total Time Run: 0.03                                                               \n",
      "Mean macro f1: 0.6172117452787591                                                  \n",
      "                                                                                   \n",
      "############## New Run ################\n",
      "params = {'C': 3.178975189729301, 'alpha': 0.04726390880424415, 'max_epoch': 80, 'model_type': 'log_reg', 'border': 0.4202106143200536, 'batch_size': 100}\n",
      "Total Time Run: 0.2                                                                \n",
      "Mean macro f1: 0.6138106990761927                                                  \n",
      "                                                                                   \n",
      "############## New Run ################\n",
      "params = {'C': 2.8847829004569094, 'alpha': 0.06529775896594851, 'max_epoch': 6, 'model_type': 'log_reg', 'border': 0.4555104411908983, 'batch_size': 70}\n",
      "Total Time Run: 0.02                                                               \n",
      "Mean macro f1: 0.6179973277214246                                                  \n",
      "                                                                                   \n",
      "############## New Run ################\n",
      "params = {'C': 4.428054214415901, 'alpha': 0.07222945886244216, 'max_epoch': 80, 'model_type': 'log_reg', 'border': 0.4288355593060661, 'batch_size': 90}\n",
      "Total Time Run: 0.21                                                               \n",
      "Mean macro f1: 0.6176091746632427                                                  \n",
      "                                                                                   \n",
      "############## New Run ################\n",
      "params = {'C': 3.9151776398106257, 'alpha': 0.06208073946061348, 'max_epoch': 40, 'model_type': 'log_reg', 'border': 0.4425695466736972, 'batch_size': 80}\n",
      "Total Time Run: 0.12                                                               \n",
      "Mean macro f1: 0.6187691141184634                                                  \n",
      "                                                                                   \n",
      "############## New Run ################\n",
      "params = {'C': 3.900782886399657, 'alpha': 0.056928213961184075, 'max_epoch': 40, 'model_type': 'log_reg', 'border': 0.4370639861191454, 'batch_size': 70}\n",
      "Total Time Run: 0.15                                                               \n",
      "Mean macro f1: 0.6157688772680199                                                  \n",
      "                                                                                   \n",
      "############## New Run ################\n",
      "params = {'C': 4.442484660993621, 'alpha': 0.062488460312940405, 'max_epoch': 40, 'model_type': 'log_reg', 'border': 0.4071068474847694, 'batch_size': 90}\n",
      "Total Time Run: 0.16                                                               \n",
      "Mean macro f1: 0.6156463694711236                                                  \n",
      "                                                                                   \n",
      "############## New Run ################\n",
      "params = {'C': 4.9180608509510995, 'alpha': 0.07913627674951582, 'max_epoch': 40, 'model_type': 'log_reg', 'border': 0.44121212172497276, 'batch_size': 80}\n",
      "Total Time Run: 0.15                                                               \n",
      "Mean macro f1: 0.6168269342229769                                                  \n",
      "                                                                                   \n",
      "############## New Run ################\n",
      "params = {'C': 4.012227361171405, 'alpha': 0.07590867009391856, 'max_epoch': 40, 'model_type': 'log_reg', 'border': 0.41968803433107055, 'batch_size': 60}\n",
      "Total Time Run: 0.17                                                               \n",
      "Mean macro f1: 0.6173951798268542                                                  \n",
      "                                                                                   \n",
      "############## New Run ################\n",
      "params = {'C': 3.690349483159419, 'alpha': 0.0911409308781132, 'max_epoch': 40, 'model_type': 'log_reg', 'border': 0.4458776755771034, 'batch_size': 90}\n",
      "Total Time Run: 0.15                                                               \n",
      "Mean macro f1: 0.6149631109884511                                                  \n",
      "                                                                                   \n",
      "############## New Run ################\n",
      "params = {'C': 3.3519995803993314, 'alpha': 0.08747594067366488, 'max_epoch': 40, 'model_type': 'log_reg', 'border': 0.42743015114748656, 'batch_size': 70}\n",
      "Total Time Run: 0.16                                                               \n",
      "Mean macro f1: 0.6160488354878444                                                  \n",
      "                                                                                   \n",
      "############## New Run ################\n",
      "params = {'C': 4.2827903511764935, 'alpha': 0.08245392834991455, 'max_epoch': 30, 'model_type': 'log_reg', 'border': 0.4114255502627528, 'batch_size': 100}\n",
      "Total Time Run: 0.11                                                               \n",
      "Mean macro f1: 0.6173181913030488                                                  \n",
      "                                                                                   \n",
      "############## New Run ################\n",
      "params = {'C': 3.5292008316472168, 'alpha': 0.1026085403235211, 'max_epoch': 40, 'model_type': 'log_reg', 'border': 0.4328583530536166, 'batch_size': 80}\n",
      "Total Time Run: 0.12                                                               \n",
      "Mean macro f1: 0.6179078784881645                                                  \n",
      "                                                                                   \n",
      "############## New Run ################\n",
      "params = {'C': 4.69558363128186, 'alpha': 0.0606782972137485, 'max_epoch': 20, 'model_type': 'log_reg', 'border': 0.5138402625895551, 'batch_size': 90}\n",
      "Total Time Run: 0.05                                                               \n",
      "Mean macro f1: 0.5837267241226693                                                  \n",
      "                                                                                   \n",
      "############## New Run ################\n",
      "params = {'C': 2.5687831123289127, 'alpha': 0.06681153395877844, 'max_epoch': 10, 'model_type': 'log_reg', 'border': 0.45927008135336356, 'batch_size': 80}\n",
      "Total Time Run: 0.03                                                               \n",
      "Mean macro f1: 0.6186520567859667                                                  \n",
      "                                                                                   \n",
      "############## New Run ################\n",
      "params = {'C': 3.146509908721816, 'alpha': 0.06436032132248055, 'max_epoch': 30, 'model_type': 'log_reg', 'border': 0.4682852013014238, 'batch_size': 70}\n",
      "Total Time Run: 0.1                                                                \n",
      "Mean macro f1: 0.6143181306014867                                                  \n",
      "                                                                                   \n",
      "############## New Run ################\n",
      "params = {'C': 2.9910281540808317, 'alpha': 0.053035282141940004, 'max_epoch': 6, 'model_type': 'log_reg', 'border': 0.4501617275603529, 'batch_size': 60}\n",
      "Total Time Run: 0.02                                                               \n",
      "Mean macro f1: 0.6178695265165597                                                  \n",
      "                                                                                   \n",
      "############## New Run ################\n",
      "params = {'C': 3.436255541205389, 'alpha': 0.0710331039294253, 'max_epoch': 40, 'model_type': 'log_reg', 'border': 0.49320274630250444, 'batch_size': 90}\n"
     ]
    },
    {
     "name": "stdout",
     "output_type": "stream",
     "text": [
      "Total Time Run: 0.12                                                               \n",
      "Mean macro f1: 0.6024834146963334                                                  \n",
      "                                                                                   \n",
      "############## New Run ################\n",
      "params = {'C': 2.4450439949841343, 'alpha': 0.09841426446267988, 'max_epoch': 30, 'model_type': 'log_reg', 'border': 0.48751981451917853, 'batch_size': 100}\n",
      "Total Time Run: 0.09                                                               \n",
      "Mean macro f1: 0.6144583667509731                                                  \n",
      "                                                                                   \n",
      "############## New Run ################\n",
      "params = {'C': 4.1749191823696155, 'alpha': 0.055876351558111825, 'max_epoch': 20, 'model_type': 'log_reg', 'border': 0.40369943657346663, 'batch_size': 80}\n",
      "Total Time Run: 0.07                                                               \n",
      "Mean macro f1: 0.6144983992499038                                                  \n",
      "                                                                                   \n",
      "############## New Run ################\n",
      "params = {'C': 3.7906392818090726, 'alpha': 0.043550760385817136, 'max_epoch': 10, 'model_type': 'log_reg', 'border': 0.4175074293147953, 'batch_size': 70}\n",
      "Total Time Run: 0.03                                                               \n",
      "Mean macro f1: 0.6150094128611318                                                  \n",
      "                                                                                   \n",
      "############## New Run ################\n",
      "params = {'C': 2.0285349882227077, 'alpha': 0.08385442304312499, 'max_epoch': 40, 'model_type': 'log_reg', 'border': 0.4822463313267056, 'batch_size': 90}\n",
      "Total Time Run: 0.14                                                               \n",
      "Mean macro f1: 0.6119699609508737                                                  \n",
      "                                                                                   \n",
      "############## New Run ################\n",
      "params = {'C': 1.4422698556191906, 'alpha': 0.07931157678832745, 'max_epoch': 30, 'model_type': 'log_reg', 'border': 0.4960468369593317, 'batch_size': 80}\n",
      "Total Time Run: 0.11                                                               \n",
      "Mean macro f1: 0.6160248398016064                                                  \n",
      "                                                                                   \n",
      "############## New Run ################\n",
      "params = {'C': 2.6545972562291897, 'alpha': 0.05901626920188566, 'max_epoch': 6, 'model_type': 'log_reg', 'border': 0.45348951403327037, 'batch_size': 60}\n",
      "Total Time Run: 0.02                                                               \n",
      "Mean macro f1: 0.6179375688283405                                                  \n",
      "                                                                                   \n",
      "############## New Run ################\n",
      "params = {'C': 3.2285995644095333, 'alpha': 0.0457303544371344, 'max_epoch': 30, 'model_type': 'log_reg', 'border': 0.4368351395553382, 'batch_size': 70}\n",
      "Total Time Run: 0.1                                                                \n",
      "Mean macro f1: 0.6187955467240376                                                  \n",
      "                                                                                   \n",
      "############## New Run ################\n",
      "params = {'C': 3.241606770412518, 'alpha': 0.04067600736296925, 'max_epoch': 30, 'model_type': 'log_reg', 'border': 0.5198080625760542, 'batch_size': 70}\n",
      "Total Time Run: 0.13                                                               \n",
      "Mean macro f1: 0.5893148237389265                                                  \n",
      "100%|██████████| 100/100 [12:22<00:00,  7.42s/trial, best loss: -0.6195881937171612]\n"
     ]
    }
   ],
   "source": [
    "from hyperopt import fmin, tpe, Trials, space_eval\n",
    "import lightgbm as lgb\n",
    "best = fmin(fn=objective,\n",
    "            space=space,\n",
    "            algo=tpe.suggest,\n",
    "            max_evals=100)\n",
    "\n",
    "# Print best parameters\n",
    "best_params = space_eval(space, best)"
   ]
  },
  {
   "cell_type": "code",
   "execution_count": 45,
   "metadata": {},
   "outputs": [
    {
     "name": "stdout",
     "output_type": "stream",
     "text": [
      "{'C': 0.3128487463553368, 'alpha': 0.08342906743626789, 'epochs': 8, 'model_type': 'log_reg'}\n"
     ]
    }
   ],
   "source": [
    "print(best_params)  ## first best_params"
   ]
  },
  {
   "cell_type": "code",
   "execution_count": 49,
   "metadata": {},
   "outputs": [
    {
     "name": "stdout",
     "output_type": "stream",
     "text": [
      "{'C': 0.2319046572611057, 'alpha': 0.08974537610057035, 'epochs': 5, 'model_type': 'log_reg'}\n"
     ]
    }
   ],
   "source": [
    "print(best_params)  ## second best_params - loss -0.6183992753228102"
   ]
  },
  {
   "cell_type": "code",
   "execution_count": 53,
   "metadata": {},
   "outputs": [
    {
     "name": "stdout",
     "output_type": "stream",
     "text": [
      "{'C': 0.4075023685769006, 'alpha': 0.08829743933525243, 'border': 0.49605845436989066, 'epochs': 6, 'model_type': 'log_reg'}\n"
     ]
    }
   ],
   "source": [
    "print(best_params)  ## 3 best_params - loss -0.61861"
   ]
  },
  {
   "cell_type": "code",
   "execution_count": 56,
   "metadata": {},
   "outputs": [
    {
     "name": "stdout",
     "output_type": "stream",
     "text": [
      "{'C': 0.5337447918136524, 'alpha': 0.08808262862193669, 'batch_size': 80, 'border': 0.4939821728809876, 'epochs': 3, 'model_type': 'log_reg'}\n"
     ]
    }
   ],
   "source": [
    "print(best_params)  ## 4 best_params - loss -0.6191"
   ]
  },
  {
   "cell_type": "code",
   "execution_count": 65,
   "metadata": {},
   "outputs": [
    {
     "name": "stdout",
     "output_type": "stream",
     "text": [
      "{'C': 2.858440613452057, 'alpha': 0.07208684411098008, 'batch_size': 70, 'border': 0.4416926504452512, 'epochs': 80, 'model_type': 'log_reg'}\n"
     ]
    }
   ],
   "source": [
    "print(best_params)  ## 5 best_params - loss -0.6195"
   ]
  },
  {
   "cell_type": "markdown",
   "metadata": {
    "collapsed": true
   },
   "source": [
    "Подберите порог линейной модели, по достижении которого, Вы будете относить объект к классу 1. Вспомните, какую метрику мы оптимизируем в соревновании.  Как тогда правильно подобрать порог?"
   ]
  },
  {
   "cell_type": "code",
   "execution_count": null,
   "metadata": {
    "collapsed": true
   },
   "outputs": [],
   "source": []
  },
  {
   "cell_type": "code",
   "execution_count": 58,
   "metadata": {},
   "outputs": [],
   "source": [
    "import pandas as pd\n",
    "test_data = pd.read_csv('test_groups.csv')\n",
    "testgroups_titledata = {}\n",
    "for i in range(len(test_data)):\n",
    "    new_doc = test_data.iloc[i]\n",
    "    doc_group = new_doc['group_id']\n",
    "    doc_id = new_doc['doc_id']\n",
    "    title = doc_to_title[doc_id]\n",
    "    if doc_group not in testgroups_titledata:\n",
    "        testgroups_titledata[doc_group] = []\n",
    "    testgroups_titledata[doc_group].append((doc_id, title))"
   ]
  },
  {
   "cell_type": "code",
   "execution_count": 59,
   "metadata": {},
   "outputs": [
    {
     "name": "stdout",
     "output_type": "stream",
     "text": [
      "(16627, 15) (16627,)\n",
      "[130 130 130 ... 309 309 309]\n"
     ]
    }
   ],
   "source": [
    "import numpy as np\n",
    "X_test = []\n",
    "groups_test = []\n",
    "for new_group in testgroups_titledata:\n",
    "    docs = testgroups_titledata[new_group]\n",
    "    for k, (doc_id, title) in enumerate(docs):\n",
    "        groups_test.append(new_group)\n",
    "        all_dist = []\n",
    "        words = set(title.strip().split())\n",
    "        for j in range(0, len(docs)):\n",
    "            if k == j:\n",
    "                continue\n",
    "            doc_id_j, title_j = docs[j]\n",
    "            words_j = set(title_j.strip().split())\n",
    "            all_dist.append(len(words.intersection(words_j)))\n",
    "        X_test.append(sorted(all_dist, reverse=True)[0:15])\n",
    "X_test = np.array(X_test)\n",
    "groups_test = np.array(groups_test)\n",
    "print(X_test.shape, groups_test.shape)\n",
    "print(groups_test)"
   ]
  },
  {
   "cell_type": "markdown",
   "metadata": {},
   "source": [
    "С лучшими параметрами на валидации сделайте предсказание на тестовом множестве, отправьте его на проверку на платформу kaggle. Убедитесь, что Вы смогли побить public score первого бейзлайна."
   ]
  },
  {
   "cell_type": "markdown",
   "metadata": {
    "collapsed": true
   },
   "source": [
    "** При сдаче домашки Вам необходимо кроме ссылки на ноутбук показать Ваш ник на kaggle, под которым Вы залили решение, которое побило Handmade baseline. **"
   ]
  },
  {
   "cell_type": "code",
   "execution_count": 66,
   "metadata": {},
   "outputs": [
    {
     "name": "stdout",
     "output_type": "stream",
     "text": [
      "(16627, 15)\n",
      "[10644  5983]\n",
      "16627\n"
     ]
    }
   ],
   "source": [
    "best_params = {'C': 2.858440613452057, 'alpha': 0.07208684411098008, 'batch_size': 70, 'border': 0.4416926504452512, \\\n",
    "               'max_epoch': 80, 'model_type': 'log_reg'}\n",
    "clf = MySGDClassifier(batch_generator, **best_params)\n",
    "clf.fit(X, y_train)\n",
    "\n",
    "st = StandardScaler()\n",
    "X_test = st.fit_transform(X_test)\n",
    "print(X_test.shape)\n",
    "\n",
    "y = clf.predict(X_test)\n",
    "u, counts = np.unique(y, return_counts=True)\n",
    "print(counts)\n",
    "r = range(11691, 28318)\n",
    "print(len(r))"
   ]
  },
  {
   "cell_type": "code",
   "execution_count": 68,
   "metadata": {},
   "outputs": [],
   "source": [
    "\n",
    "data = {'pair_id' : range(11691, 28318), 'target': y}\n",
    "res = pd.DataFrame(data)\n",
    "res.to_csv('preds2.csv', index=False)"
   ]
  },
  {
   "cell_type": "markdown",
   "metadata": {},
   "source": [
    "# Фидбек (бесценно)"
   ]
  },
  {
   "cell_type": "markdown",
   "metadata": {},
   "source": [
    "* Какие аспекты обучения линейных моделей Вам показались непонятными? Какое место стоит дополнительно объяснить?"
   ]
  },
  {
   "cell_type": "markdown",
   "metadata": {},
   "source": [
    "***Ваше ответ здесь***"
   ]
  },
  {
   "cell_type": "markdown",
   "metadata": {},
   "source": [
    "* Здесь Вы можете оставить отзыв о этой домашней работе или о всем курсе.   "
   ]
  },
  {
   "cell_type": "markdown",
   "metadata": {},
   "source": [
    "*** ВАШ ОТЗЫВ ЗДЕСЬ***"
   ]
  },
  {
   "cell_type": "code",
   "execution_count": null,
   "metadata": {
    "collapsed": true
   },
   "outputs": [],
   "source": []
  },
  {
   "cell_type": "code",
   "execution_count": null,
   "metadata": {
    "collapsed": true
   },
   "outputs": [],
   "source": []
  }
 ],
 "metadata": {
  "kernelspec": {
   "display_name": "Python 3",
   "language": "python",
   "name": "python3"
  },
  "language_info": {
   "codemirror_mode": {
    "name": "ipython",
    "version": 3
   },
   "file_extension": ".py",
   "mimetype": "text/x-python",
   "name": "python",
   "nbconvert_exporter": "python",
   "pygments_lexer": "ipython3",
   "version": "3.6.10"
  }
 },
 "nbformat": 4,
 "nbformat_minor": 4
}
